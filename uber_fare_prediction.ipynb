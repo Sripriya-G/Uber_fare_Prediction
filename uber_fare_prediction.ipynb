{
  "nbformat": 4,
  "nbformat_minor": 0,
  "metadata": {
    "colab": {
      "name": "uber_fare_prediction.ipynb",
      "provenance": [],
      "collapsed_sections": []
    },
    "kernelspec": {
      "name": "python3",
      "display_name": "Python 3"
    },
    "language_info": {
      "name": "python"
    }
  },
  "cells": [
    {
      "cell_type": "markdown",
      "metadata": {
        "id": "ZHsquGVHNOkU"
      },
      "source": [
        "# **UBER FARE PREDICTION**"
      ]
    },
    {
      "cell_type": "markdown",
      "metadata": {
        "id": "_CzYdwWre8B3"
      },
      "source": [
        "**Dataset**\n",
        "\n",
        "train.csv - Input features and target fare_amount values for the training set (about 50k rows).\n",
        "\n",
        "test.csv - Input features for the test set (about 10K rows). \n",
        "\n",
        "Our goal is to predict fare_amount for each row.\n"
      ]
    },
    {
      "cell_type": "code",
      "metadata": {
        "id": "e7d25qRaVZJM"
      },
      "source": [
        "from google.colab import drive"
      ],
      "execution_count": 1,
      "outputs": []
    },
    {
      "cell_type": "code",
      "metadata": {
        "id": "hoPldnpKVoYx",
        "colab": {
          "base_uri": "https://localhost:8080/"
        },
        "outputId": "3f28ee20-b11b-4f24-ad01-4bc35a6fe8dd"
      },
      "source": [
        "drive.mount('/content/drive/')"
      ],
      "execution_count": 2,
      "outputs": [
        {
          "output_type": "stream",
          "name": "stdout",
          "text": [
            "Mounted at /content/drive/\n"
          ]
        }
      ]
    },
    {
      "cell_type": "code",
      "metadata": {
        "id": "-p3BT3aWVobm"
      },
      "source": [
        "import numpy as np # linear algebra\n",
        "import pandas as pd # data processing, CSV file I/O (e.g. pd.read_csv)"
      ],
      "execution_count": 3,
      "outputs": []
    },
    {
      "cell_type": "code",
      "metadata": {
        "colab": {
          "base_uri": "https://localhost:8080/"
        },
        "id": "9_txyLOTVoea",
        "outputId": "ce10fb49-e1a9-4087-e4e8-8d67c2db2d0c"
      },
      "source": [
        "train_df=pd.read_csv(r\"/content/drive/MyDrive/Internship/train.csv\",nrows=5000)\n",
        "test_df=pd.read_csv(r\"/content/drive/MyDrive/Internship/test.csv\")\n",
        "print (train_df.shape)\n",
        "print (train_df.columns)\n",
        "print (test_df.shape)\n",
        "print (test_df.columns)"
      ],
      "execution_count": 4,
      "outputs": [
        {
          "output_type": "stream",
          "name": "stdout",
          "text": [
            "(5000, 8)\n",
            "Index(['key', 'fare_amount', 'pickup_datetime', 'pickup_longitude',\n",
            "       'pickup_latitude', 'dropoff_longitude', 'dropoff_latitude',\n",
            "       'passenger_count'],\n",
            "      dtype='object')\n",
            "(9914, 7)\n",
            "Index(['key', 'pickup_datetime', 'pickup_longitude', 'pickup_latitude',\n",
            "       'dropoff_longitude', 'dropoff_latitude', 'passenger_count'],\n",
            "      dtype='object')\n"
          ]
        }
      ]
    },
    {
      "cell_type": "code",
      "metadata": {
        "colab": {
          "base_uri": "https://localhost:8080/"
        },
        "id": "aTqq3BeHVohA",
        "outputId": "cf195a8a-942c-4fef-daf3-b352a560e94a"
      },
      "source": [
        "train_df.info()"
      ],
      "execution_count": 5,
      "outputs": [
        {
          "output_type": "stream",
          "name": "stdout",
          "text": [
            "<class 'pandas.core.frame.DataFrame'>\n",
            "RangeIndex: 5000 entries, 0 to 4999\n",
            "Data columns (total 8 columns):\n",
            " #   Column             Non-Null Count  Dtype  \n",
            "---  ------             --------------  -----  \n",
            " 0   key                5000 non-null   object \n",
            " 1   fare_amount        5000 non-null   float64\n",
            " 2   pickup_datetime    5000 non-null   object \n",
            " 3   pickup_longitude   5000 non-null   float64\n",
            " 4   pickup_latitude    5000 non-null   float64\n",
            " 5   dropoff_longitude  5000 non-null   float64\n",
            " 6   dropoff_latitude   5000 non-null   float64\n",
            " 7   passenger_count    5000 non-null   int64  \n",
            "dtypes: float64(5), int64(1), object(2)\n",
            "memory usage: 312.6+ KB\n"
          ]
        }
      ]
    },
    {
      "cell_type": "markdown",
      "metadata": {
        "id": "zyvR0IsyfIFR"
      },
      "source": [
        "Here we can see there are 8columns in which 6 numerics and 2 are object.\n",
        "\n",
        "Lets change the type of pickup_datetime from object to DateTime\n"
      ]
    },
    {
      "cell_type": "code",
      "metadata": {
        "id": "VhZDWvEDYxOw"
      },
      "source": [
        "train_df[\"pickup_datetime\"]=pd.to_datetime(train_df['pickup_datetime'])"
      ],
      "execution_count": 6,
      "outputs": []
    },
    {
      "cell_type": "code",
      "metadata": {
        "colab": {
          "base_uri": "https://localhost:8080/",
          "height": 206
        },
        "id": "XYCK84-GYved",
        "outputId": "fb24d44d-1ee4-4543-f109-8026b8605f1b"
      },
      "source": [
        "train_df.head()"
      ],
      "execution_count": 7,
      "outputs": [
        {
          "output_type": "execute_result",
          "data": {
            "text/html": [
              "<div>\n",
              "<style scoped>\n",
              "    .dataframe tbody tr th:only-of-type {\n",
              "        vertical-align: middle;\n",
              "    }\n",
              "\n",
              "    .dataframe tbody tr th {\n",
              "        vertical-align: top;\n",
              "    }\n",
              "\n",
              "    .dataframe thead th {\n",
              "        text-align: right;\n",
              "    }\n",
              "</style>\n",
              "<table border=\"1\" class=\"dataframe\">\n",
              "  <thead>\n",
              "    <tr style=\"text-align: right;\">\n",
              "      <th></th>\n",
              "      <th>key</th>\n",
              "      <th>fare_amount</th>\n",
              "      <th>pickup_datetime</th>\n",
              "      <th>pickup_longitude</th>\n",
              "      <th>pickup_latitude</th>\n",
              "      <th>dropoff_longitude</th>\n",
              "      <th>dropoff_latitude</th>\n",
              "      <th>passenger_count</th>\n",
              "    </tr>\n",
              "  </thead>\n",
              "  <tbody>\n",
              "    <tr>\n",
              "      <th>0</th>\n",
              "      <td>2009-06-15 17:26:21.0000001</td>\n",
              "      <td>4.5</td>\n",
              "      <td>2009-06-15 17:26:21+00:00</td>\n",
              "      <td>-73.844311</td>\n",
              "      <td>40.721319</td>\n",
              "      <td>-73.841610</td>\n",
              "      <td>40.712278</td>\n",
              "      <td>1</td>\n",
              "    </tr>\n",
              "    <tr>\n",
              "      <th>1</th>\n",
              "      <td>2010-01-05 16:52:16.0000002</td>\n",
              "      <td>16.9</td>\n",
              "      <td>2010-01-05 16:52:16+00:00</td>\n",
              "      <td>-74.016048</td>\n",
              "      <td>40.711303</td>\n",
              "      <td>-73.979268</td>\n",
              "      <td>40.782004</td>\n",
              "      <td>1</td>\n",
              "    </tr>\n",
              "    <tr>\n",
              "      <th>2</th>\n",
              "      <td>2011-08-18 00:35:00.00000049</td>\n",
              "      <td>5.7</td>\n",
              "      <td>2011-08-18 00:35:00+00:00</td>\n",
              "      <td>-73.982738</td>\n",
              "      <td>40.761270</td>\n",
              "      <td>-73.991242</td>\n",
              "      <td>40.750562</td>\n",
              "      <td>2</td>\n",
              "    </tr>\n",
              "    <tr>\n",
              "      <th>3</th>\n",
              "      <td>2012-04-21 04:30:42.0000001</td>\n",
              "      <td>7.7</td>\n",
              "      <td>2012-04-21 04:30:42+00:00</td>\n",
              "      <td>-73.987130</td>\n",
              "      <td>40.733143</td>\n",
              "      <td>-73.991567</td>\n",
              "      <td>40.758092</td>\n",
              "      <td>1</td>\n",
              "    </tr>\n",
              "    <tr>\n",
              "      <th>4</th>\n",
              "      <td>2010-03-09 07:51:00.000000135</td>\n",
              "      <td>5.3</td>\n",
              "      <td>2010-03-09 07:51:00+00:00</td>\n",
              "      <td>-73.968095</td>\n",
              "      <td>40.768008</td>\n",
              "      <td>-73.956655</td>\n",
              "      <td>40.783762</td>\n",
              "      <td>1</td>\n",
              "    </tr>\n",
              "  </tbody>\n",
              "</table>\n",
              "</div>"
            ],
            "text/plain": [
              "                             key  ...  passenger_count\n",
              "0    2009-06-15 17:26:21.0000001  ...                1\n",
              "1    2010-01-05 16:52:16.0000002  ...                1\n",
              "2   2011-08-18 00:35:00.00000049  ...                2\n",
              "3    2012-04-21 04:30:42.0000001  ...                1\n",
              "4  2010-03-09 07:51:00.000000135  ...                1\n",
              "\n",
              "[5 rows x 8 columns]"
            ]
          },
          "metadata": {},
          "execution_count": 7
        }
      ]
    },
    {
      "cell_type": "code",
      "metadata": {
        "id": "4mwWu90K5E4E"
      },
      "source": [
        "#Eliminate rows where the pickup and drop location points are same\n",
        "\n",
        "train_df=train_df[np.logical_and(train_df['pickup_longitude'] != train_df['dropoff_longitude'],\n",
        "                                     train_df['pickup_latitude'] != train_df['dropoff_latitude'])]"
      ],
      "execution_count": 8,
      "outputs": []
    },
    {
      "cell_type": "code",
      "metadata": {
        "colab": {
          "base_uri": "https://localhost:8080/"
        },
        "id": "qLEEXQkg5dKE",
        "outputId": "316c4c4d-9d48-4953-8548-58ef51a9a670"
      },
      "source": [
        "train_df.shape"
      ],
      "execution_count": 9,
      "outputs": [
        {
          "output_type": "execute_result",
          "data": {
            "text/plain": [
              "(4854, 8)"
            ]
          },
          "metadata": {},
          "execution_count": 9
        }
      ]
    },
    {
      "cell_type": "markdown",
      "metadata": {
        "id": "TyOzdR2dfV5f"
      },
      "source": [
        "##As this is Taxi fare data and we know there are many factors which affect the price of taxi like \n",
        "1. Travelled distance\n",
        "2. Time of Travel\n",
        "3. Demand and Availability of Taxi\n",
        "4. Some special places are more costlier like Airport or other places where there might be toll\n"
      ]
    },
    {
      "cell_type": "code",
      "metadata": {
        "colab": {
          "base_uri": "https://localhost:8080/",
          "height": 300
        },
        "id": "bwVZbDkdYvoY",
        "outputId": "3ab0e76a-e9ef-4198-b762-d96d6b9dd625"
      },
      "source": [
        "train_df.describe()"
      ],
      "execution_count": 10,
      "outputs": [
        {
          "output_type": "execute_result",
          "data": {
            "text/html": [
              "<div>\n",
              "<style scoped>\n",
              "    .dataframe tbody tr th:only-of-type {\n",
              "        vertical-align: middle;\n",
              "    }\n",
              "\n",
              "    .dataframe tbody tr th {\n",
              "        vertical-align: top;\n",
              "    }\n",
              "\n",
              "    .dataframe thead th {\n",
              "        text-align: right;\n",
              "    }\n",
              "</style>\n",
              "<table border=\"1\" class=\"dataframe\">\n",
              "  <thead>\n",
              "    <tr style=\"text-align: right;\">\n",
              "      <th></th>\n",
              "      <th>fare_amount</th>\n",
              "      <th>pickup_longitude</th>\n",
              "      <th>pickup_latitude</th>\n",
              "      <th>dropoff_longitude</th>\n",
              "      <th>dropoff_latitude</th>\n",
              "      <th>passenger_count</th>\n",
              "    </tr>\n",
              "  </thead>\n",
              "  <tbody>\n",
              "    <tr>\n",
              "      <th>count</th>\n",
              "      <td>4854.000000</td>\n",
              "      <td>4854.000000</td>\n",
              "      <td>4854.000000</td>\n",
              "      <td>4854.000000</td>\n",
              "      <td>4854.000000</td>\n",
              "      <td>4854.000000</td>\n",
              "    </tr>\n",
              "    <tr>\n",
              "      <th>mean</th>\n",
              "      <td>11.286080</td>\n",
              "      <td>-73.843349</td>\n",
              "      <td>40.646672</td>\n",
              "      <td>-73.857864</td>\n",
              "      <td>40.655458</td>\n",
              "      <td>1.635146</td>\n",
              "    </tr>\n",
              "    <tr>\n",
              "      <th>std</th>\n",
              "      <td>9.387824</td>\n",
              "      <td>3.553808</td>\n",
              "      <td>3.081680</td>\n",
              "      <td>3.392022</td>\n",
              "      <td>3.025428</td>\n",
              "      <td>1.262958</td>\n",
              "    </tr>\n",
              "    <tr>\n",
              "      <th>min</th>\n",
              "      <td>-2.900000</td>\n",
              "      <td>-74.438233</td>\n",
              "      <td>-73.991840</td>\n",
              "      <td>-74.185996</td>\n",
              "      <td>-73.979010</td>\n",
              "      <td>0.000000</td>\n",
              "    </tr>\n",
              "    <tr>\n",
              "      <th>25%</th>\n",
              "      <td>6.000000</td>\n",
              "      <td>-73.992784</td>\n",
              "      <td>40.735493</td>\n",
              "      <td>-73.991541</td>\n",
              "      <td>40.735771</td>\n",
              "      <td>1.000000</td>\n",
              "    </tr>\n",
              "    <tr>\n",
              "      <th>50%</th>\n",
              "      <td>8.500000</td>\n",
              "      <td>-73.982282</td>\n",
              "      <td>40.752653</td>\n",
              "      <td>-73.980571</td>\n",
              "      <td>40.754238</td>\n",
              "      <td>1.000000</td>\n",
              "    </tr>\n",
              "    <tr>\n",
              "      <th>75%</th>\n",
              "      <td>12.900000</td>\n",
              "      <td>-73.968490</td>\n",
              "      <td>40.767280</td>\n",
              "      <td>-73.965553</td>\n",
              "      <td>40.768063</td>\n",
              "      <td>2.000000</td>\n",
              "    </tr>\n",
              "    <tr>\n",
              "      <th>max</th>\n",
              "      <td>165.000000</td>\n",
              "      <td>40.751582</td>\n",
              "      <td>41.366138</td>\n",
              "      <td>40.758867</td>\n",
              "      <td>41.032598</td>\n",
              "      <td>6.000000</td>\n",
              "    </tr>\n",
              "  </tbody>\n",
              "</table>\n",
              "</div>"
            ],
            "text/plain": [
              "       fare_amount  pickup_longitude  ...  dropoff_latitude  passenger_count\n",
              "count  4854.000000       4854.000000  ...       4854.000000      4854.000000\n",
              "mean     11.286080        -73.843349  ...         40.655458         1.635146\n",
              "std       9.387824          3.553808  ...          3.025428         1.262958\n",
              "min      -2.900000        -74.438233  ...        -73.979010         0.000000\n",
              "25%       6.000000        -73.992784  ...         40.735771         1.000000\n",
              "50%       8.500000        -73.982282  ...         40.754238         1.000000\n",
              "75%      12.900000        -73.968490  ...         40.768063         2.000000\n",
              "max     165.000000         40.751582  ...         41.032598         6.000000\n",
              "\n",
              "[8 rows x 6 columns]"
            ]
          },
          "metadata": {},
          "execution_count": 10
        }
      ]
    },
    {
      "cell_type": "markdown",
      "metadata": {
        "id": "wTy0brrzfe61"
      },
      "source": [
        "##Here first thing which we can see is minimum value of fare is negative which is -62 which is not the valid value, so we need to remove the fare which are negative values.\n",
        "#Secondly, passenger_count minimum value is 0 and maximum value is 208 which impossible, so we need to remove them as well, for safer side we can think that a taxi can have maximum 7 people.\n"
      ]
    },
    {
      "cell_type": "code",
      "metadata": {
        "id": "_k1Mfq_e5wwV"
      },
      "source": [
        "#replace 0 with NA in the variables and convert the data wherever required for further operations\n",
        "\n",
        "train_df['fare_amount']= train_df['fare_amount'].apply(pd.to_numeric, errors='coerce')\n",
        "train_df['fare_amount']= train_df['fare_amount'].replace({0:np.nan})\n",
        "train_df['passenger_count']=train_df['passenger_count'].fillna(0)\n",
        "train_df['passenger_count']= train_df['passenger_count'].astype(int)\n",
        "train_df['passenger_count']=train_df['passenger_count'].replace({0: np.nan})\n",
        "train_df['pickup_longitude']= train_df['pickup_longitude'].replace({0:np.nan})\n",
        "train_df['pickup_latitude']= train_df['pickup_latitude'].replace({0:np.nan})\n",
        "train_df['dropoff_longitude']= train_df['dropoff_longitude'].replace({0:np.nan})\n",
        "train_df['dropoff_latitude']= train_df['dropoff_latitude'].replace({0:np.nan})"
      ],
      "execution_count": 11,
      "outputs": []
    },
    {
      "cell_type": "markdown",
      "metadata": {
        "id": "wyRXm-88fveu"
      },
      "source": [
        "##Here we can see there are  null values in passanger_count,pickup_latitude, pickup_logitude, drop_off latitude and longitude. As removing some rows from our huge dataset will not affect our analysis so, lets remove the rows having null values \n"
      ]
    },
    {
      "cell_type": "code",
      "metadata": {
        "colab": {
          "base_uri": "https://localhost:8080/"
        },
        "id": "ggR9HzyP4ILP",
        "outputId": "ce39dc47-b4e8-463a-9431-35a67739aef8"
      },
      "source": [
        "#calculate missing values\n",
        "\n",
        "missing_val = pd.DataFrame(train_df.isnull().sum())\n",
        "#print(missing_val)\n",
        "\n",
        "#Reset index\n",
        "missing_val = missing_val.reset_index()\n",
        "#print(missing_val)\n",
        "\n",
        "#Rename variable\n",
        "missing_val = missing_val.rename(columns = {'index': 'Variables', 0: 'count'})\n",
        "#print(missing_val)\n",
        "\n",
        "#Calculate percentage\n",
        "missing_val['Missing_percentage'] = (missing_val['count']/len(train_df)*100)\n",
        "#print(missing_val)\n",
        "\n",
        "#sort in descending order\n",
        "missing_val = missing_val.sort_values('Missing_percentage', ascending = False).reset_index(drop = True)\n",
        "print(missing_val)"
      ],
      "execution_count": 12,
      "outputs": [
        {
          "output_type": "stream",
          "name": "stdout",
          "text": [
            "           Variables  count  Missing_percentage\n",
            "0    passenger_count     16            0.329625\n",
            "1   pickup_longitude      3            0.061805\n",
            "2    pickup_latitude      3            0.061805\n",
            "3  dropoff_longitude      2            0.041203\n",
            "4   dropoff_latitude      2            0.041203\n",
            "5                key      0            0.000000\n",
            "6        fare_amount      0            0.000000\n",
            "7    pickup_datetime      0            0.000000\n"
          ]
        }
      ]
    },
    {
      "cell_type": "code",
      "metadata": {
        "colab": {
          "base_uri": "https://localhost:8080/"
        },
        "id": "9DiOPgFXZzju",
        "outputId": "df99b6a2-d93e-424e-c29b-83d334d5433e"
      },
      "source": [
        "train_df.dropna(inplace=True)\n",
        "print(train_df.isnull().sum())"
      ],
      "execution_count": 13,
      "outputs": [
        {
          "output_type": "stream",
          "name": "stdout",
          "text": [
            "key                  0\n",
            "fare_amount          0\n",
            "pickup_datetime      0\n",
            "pickup_longitude     0\n",
            "pickup_latitude      0\n",
            "dropoff_longitude    0\n",
            "dropoff_latitude     0\n",
            "passenger_count      0\n",
            "dtype: int64\n"
          ]
        }
      ]
    },
    {
      "cell_type": "code",
      "metadata": {
        "colab": {
          "base_uri": "https://localhost:8080/"
        },
        "id": "bYaLdB1u7wzd",
        "outputId": "24710b69-c3f7-401b-ac33-edfb90a12955"
      },
      "source": [
        "train_df.shape"
      ],
      "execution_count": 14,
      "outputs": [
        {
          "output_type": "execute_result",
          "data": {
            "text/plain": [
              "(4833, 8)"
            ]
          },
          "metadata": {},
          "execution_count": 14
        }
      ]
    },
    {
      "cell_type": "markdown",
      "metadata": {
        "id": "KSCepypY_jhU"
      },
      "source": [
        "## **OUTLIER ANALYSIS**"
      ]
    },
    {
      "cell_type": "code",
      "metadata": {
        "id": "2pJ5KkpD9inq"
      },
      "source": [
        "#save the data with in another place with different name\n",
        "\n",
        "df = train_df.copy()\n",
        "train_df = train_df.copy()"
      ],
      "execution_count": 15,
      "outputs": []
    },
    {
      "cell_type": "code",
      "metadata": {
        "id": "GOhgQtfI9ikT"
      },
      "source": [
        "# irregular fare_amount are converted to NA \n",
        "\n",
        "train_df.loc[train_df['fare_amount']<0 , 'fare_amount']=np.nan\n",
        "train_df.loc[train_df['fare_amount'] > 30, 'fare_amount']=np.nan\n",
        "train_df=train_df.dropna()"
      ],
      "execution_count": 16,
      "outputs": []
    },
    {
      "cell_type": "code",
      "metadata": {
        "id": "SNkpSnW69icv"
      },
      "source": [
        "#irregular passenger counts or those wgich are greater then 8 convertet to NaN\n",
        "train_df.loc[train_df['passenger_count'] > 8,'passenger_count'] = np.nan"
      ],
      "execution_count": 17,
      "outputs": []
    },
    {
      "cell_type": "code",
      "metadata": {
        "id": "hvmmv41y-JKe"
      },
      "source": [
        "#save numeric data names\n",
        "coutliers = [ 'pickup_longitude', 'pickup_latitude', 'dropoff_longitude', 'dropoff_latitude']\n",
        "for list in coutliers:\n",
        "    #Detect and replace with NA\n",
        "    #Extract quartiles\n",
        "    q75, q25 = np.percentile(train_df[list], [75 ,25])\n",
        "\n",
        "    #Calculate IQR\n",
        "    iqr = q75 - q25\n",
        "   \n",
        "    # #Calculate inner and outer fence\n",
        "    minimum = q25 - (iqr*1.5)\n",
        "    maximum = q75 + (iqr*1.5)\n",
        "\n",
        "    # #Replace with NA\n",
        "    train_df.loc[train_df[list] < minimum,list] = np.nan\n",
        "    train_df.loc[train_df[list] > maximum,list] = np.nan\n",
        "\n",
        "    # #Calculate missing value\n",
        "    missing_val = pd.DataFrame(train_df.isnull().sum())"
      ],
      "execution_count": 18,
      "outputs": []
    },
    {
      "cell_type": "code",
      "metadata": {
        "id": "2-dKgnQa-JHG"
      },
      "source": [
        "#As Mean is the best method, we impute missing values/ in this case outlier values with mean\n",
        "\n",
        "train_df['pickup_longitude'] = train_df['pickup_longitude'].fillna(train_df['pickup_longitude'].mean())\n",
        "train_df['pickup_latitude'] = train_df['pickup_latitude'].fillna(train_df['pickup_latitude'].mean())\n",
        "train_df['dropoff_longitude'] = train_df['dropoff_longitude'].fillna(train_df['dropoff_longitude'].mean())\n",
        "train_df['dropoff_latitude'] = train_df['dropoff_latitude'].fillna(train_df['dropoff_latitude'].mean())\n",
        "\n",
        "#imputed with mode for categorical variables\n",
        "train_df['passenger_count'] = train_df['passenger_count'].fillna(int(train_df['passenger_count'].mode()))"
      ],
      "execution_count": 19,
      "outputs": []
    },
    {
      "cell_type": "code",
      "metadata": {
        "id": "zYiryGR7-JET"
      },
      "source": [
        "#convert the data type of categorical variable passenger count\n",
        "train_df['passenger_count']=train_df['passenger_count'].astype('int')\n",
        "train_df['passenger_count']=train_df['passenger_count'].astype('category')"
      ],
      "execution_count": 20,
      "outputs": []
    },
    {
      "cell_type": "code",
      "metadata": {
        "id": "ocskB5EEZzmV"
      },
      "source": [
        "import matplotlib.pyplot as plt\n",
        "import seaborn as sns\n",
        "%matplotlib inline"
      ],
      "execution_count": 21,
      "outputs": []
    },
    {
      "cell_type": "code",
      "metadata": {
        "colab": {
          "base_uri": "https://localhost:8080/",
          "height": 352
        },
        "id": "TWh3xu4gZzpC",
        "outputId": "5273f28b-06f5-47ad-88ad-89caf1e6d6c0"
      },
      "source": [
        "sns.distplot(train_df['fare_amount'])"
      ],
      "execution_count": 22,
      "outputs": [
        {
          "output_type": "stream",
          "name": "stderr",
          "text": [
            "/usr/local/lib/python3.7/dist-packages/seaborn/distributions.py:2619: FutureWarning: `distplot` is a deprecated function and will be removed in a future version. Please adapt your code to use either `displot` (a figure-level function with similar flexibility) or `histplot` (an axes-level function for histograms).\n",
            "  warnings.warn(msg, FutureWarning)\n"
          ]
        },
        {
          "output_type": "execute_result",
          "data": {
            "text/plain": [
              "<matplotlib.axes._subplots.AxesSubplot at 0x7efe62eed550>"
            ]
          },
          "metadata": {},
          "execution_count": 22
        },
        {
          "output_type": "display_data",
          "data": {
            "image/png": "[encoded data removed]",
            "text/plain": [
              "<Figure size 432x288 with 1 Axes>"
            ]
          },
          "metadata": {
            "needs_background": "light"
          }
        }
      ]
    },
    {
      "cell_type": "markdown",
      "metadata": {
        "id": "QFGrsZtQf07H"
      },
      "source": [
        "##In distribution plot also it can be seen that there are some values which are negative fare\n"
      ]
    },
    {
      "cell_type": "code",
      "metadata": {
        "colab": {
          "base_uri": "https://localhost:8080/",
          "height": 352
        },
        "id": "FOWnXDEbZzrj",
        "outputId": "f13b87eb-37a6-4d0c-eb90-52bcbcc3c4d8"
      },
      "source": [
        "sns.distplot(train_df['pickup_latitude'])"
      ],
      "execution_count": 23,
      "outputs": [
        {
          "output_type": "stream",
          "name": "stderr",
          "text": [
            "/usr/local/lib/python3.7/dist-packages/seaborn/distributions.py:2619: FutureWarning: `distplot` is a deprecated function and will be removed in a future version. Please adapt your code to use either `displot` (a figure-level function with similar flexibility) or `histplot` (an axes-level function for histograms).\n",
            "  warnings.warn(msg, FutureWarning)\n"
          ]
        },
        {
          "output_type": "execute_result",
          "data": {
            "text/plain": [
              "<matplotlib.axes._subplots.AxesSubplot at 0x7efe62660ed0>"
            ]
          },
          "metadata": {},
          "execution_count": 23
        },
        {
          "output_type": "display_data",
          "data": {
            "image/png": "[encoded data removed]",
            "text/plain": [
              "<Figure size 432x288 with 1 Axes>"
            ]
          },
          "metadata": {
            "needs_background": "light"
          }
        }
      ]
    },
    {
      "cell_type": "code",
      "metadata": {
        "colab": {
          "base_uri": "https://localhost:8080/",
          "height": 352
        },
        "id": "fgf0ArkJZzvO",
        "outputId": "051208e1-ef01-431c-e600-77470210d17a"
      },
      "source": [
        "sns.distplot(train_df['pickup_longitude'])"
      ],
      "execution_count": 24,
      "outputs": [
        {
          "output_type": "stream",
          "name": "stderr",
          "text": [
            "/usr/local/lib/python3.7/dist-packages/seaborn/distributions.py:2619: FutureWarning: `distplot` is a deprecated function and will be removed in a future version. Please adapt your code to use either `displot` (a figure-level function with similar flexibility) or `histplot` (an axes-level function for histograms).\n",
            "  warnings.warn(msg, FutureWarning)\n"
          ]
        },
        {
          "output_type": "execute_result",
          "data": {
            "text/plain": [
              "<matplotlib.axes._subplots.AxesSubplot at 0x7efe605e31d0>"
            ]
          },
          "metadata": {},
          "execution_count": 24
        },
        {
          "output_type": "display_data",
          "data": {
            "image/png": "[encoded data removed]",
            "text/plain": [
              "<Figure size 432x288 with 1 Axes>"
            ]
          },
          "metadata": {
            "needs_background": "light"
          }
        }
      ]
    },
    {
      "cell_type": "code",
      "metadata": {
        "colab": {
          "base_uri": "https://localhost:8080/",
          "height": 353
        },
        "id": "4YtbjmukYvtj",
        "outputId": "0b435e8c-c6b3-46ec-9da0-495bc01fa63c"
      },
      "source": [
        "sns.distplot(train_df['dropoff_longitude'])"
      ],
      "execution_count": 25,
      "outputs": [
        {
          "output_type": "stream",
          "name": "stderr",
          "text": [
            "/usr/local/lib/python3.7/dist-packages/seaborn/distributions.py:2619: FutureWarning: `distplot` is a deprecated function and will be removed in a future version. Please adapt your code to use either `displot` (a figure-level function with similar flexibility) or `histplot` (an axes-level function for histograms).\n",
            "  warnings.warn(msg, FutureWarning)\n"
          ]
        },
        {
          "output_type": "execute_result",
          "data": {
            "text/plain": [
              "<matplotlib.axes._subplots.AxesSubplot at 0x7efe60051b90>"
            ]
          },
          "metadata": {},
          "execution_count": 25
        },
        {
          "output_type": "display_data",
          "data": {
            "image/png": "[encoded data removed]",
            "text/plain": [
              "<Figure size 432x288 with 1 Axes>"
            ]
          },
          "metadata": {
            "needs_background": "light"
          }
        }
      ]
    },
    {
      "cell_type": "code",
      "metadata": {
        "colab": {
          "base_uri": "https://localhost:8080/",
          "height": 352
        },
        "id": "wauAm5m0aaTW",
        "outputId": "34fafbcd-76dc-421f-f3db-db934a9390c9"
      },
      "source": [
        "sns.distplot(train_df['dropoff_latitude'])"
      ],
      "execution_count": 26,
      "outputs": [
        {
          "output_type": "stream",
          "name": "stderr",
          "text": [
            "/usr/local/lib/python3.7/dist-packages/seaborn/distributions.py:2619: FutureWarning: `distplot` is a deprecated function and will be removed in a future version. Please adapt your code to use either `displot` (a figure-level function with similar flexibility) or `histplot` (an axes-level function for histograms).\n",
            "  warnings.warn(msg, FutureWarning)\n"
          ]
        },
        {
          "output_type": "execute_result",
          "data": {
            "text/plain": [
              "<matplotlib.axes._subplots.AxesSubplot at 0x7efe5fed5550>"
            ]
          },
          "metadata": {},
          "execution_count": 26
        },
        {
          "output_type": "display_data",
          "data": {
            "image/png": "[encoded data removed]",
            "text/plain": [
              "<Figure size 432x288 with 1 Axes>"
            ]
          },
          "metadata": {
            "needs_background": "light"
          }
        }
      ]
    },
    {
      "cell_type": "code",
      "metadata": {
        "colab": {
          "base_uri": "https://localhost:8080/"
        },
        "id": "BebIgx9baaWN",
        "outputId": "06a99e72-6e28-462a-fa62-3aa5e952f60c"
      },
      "source": [
        "print(\"drop_off latitude min value\",test_df[\"dropoff_latitude\"].min())\n",
        "print(\"drop_off latitude max value\",test_df[\"dropoff_latitude\"].max())\n",
        "print(\"drop_off longitude min value\", test_df[\"dropoff_longitude\"].min())\n",
        "print(\"drop_off longitude max value\",test_df[\"dropoff_longitude\"].max())\n",
        "print(\"pickup latitude min value\",test_df[\"pickup_latitude\"].min())\n",
        "print(\"pickup latitude max value\",test_df[\"pickup_latitude\"].max())\n",
        "print(\"pickup longitude min value\",test_df[\"pickup_longitude\"].min())\n",
        "print(\"pickup longitude max value\",test_df[\"pickup_longitude\"].max())"
      ],
      "execution_count": 27,
      "outputs": [
        {
          "output_type": "stream",
          "name": "stdout",
          "text": [
            "drop_off latitude min value 40.568973\n",
            "drop_off latitude max value 41.696683\n",
            "drop_off longitude min value -74.263242\n",
            "drop_off longitude max value -72.990963\n",
            "pickup latitude min value 40.573143\n",
            "pickup latitude max value 41.709555\n",
            "pickup longitude min value -74.252193\n",
            "pickup longitude max value -72.986532\n"
          ]
        }
      ]
    },
    {
      "cell_type": "markdown",
      "metadata": {
        "id": "bGoOtKGjgLqT"
      },
      "source": [
        "###we can see what is range of latitude and longitude of our test dataset, lets keep the range same in our train set so that even noisy data is remove and we have only the values which belongs to new york\n"
      ]
    },
    {
      "cell_type": "code",
      "metadata": {
        "id": "Im8rQqmtaaYl"
      },
      "source": [
        "min_longitude=-74.263242,\n",
        "min_latitude=40.573143,\n",
        "max_longitude=-72.986532, \n",
        "max_latitude=41.709555"
      ],
      "execution_count": 28,
      "outputs": []
    },
    {
      "cell_type": "code",
      "metadata": {
        "colab": {
          "base_uri": "https://localhost:8080/"
        },
        "id": "-spdMYi-aaau",
        "outputId": "4c681f8b-4f1e-478e-aa33-f4b5337a7c22"
      },
      "source": [
        "tempdf=train_df[(train_df[\"dropoff_latitude\"]<min_latitude) | (train_df[\"pickup_latitude\"]<min_latitude) | (train_df[\"dropoff_longitude\"]<min_longitude) | (train_df[\"pickup_longitude\"]<min_longitude) | (train_df[\"dropoff_latitude\"]>max_latitude) | (train_df[\"pickup_latitude\"]>max_latitude) | (train_df[\"dropoff_longitude\"]>max_longitude) | (train_df[\"pickup_longitude\"]>max_longitude) ]\n",
        "print(\"before droping\",train_df.shape)\n",
        "train_df.drop(tempdf.index,inplace=True)\n",
        "print(\"after droping\",train_df.shape)"
      ],
      "execution_count": 29,
      "outputs": [
        {
          "output_type": "stream",
          "name": "stdout",
          "text": [
            "before droping (4598, 8)\n",
            "after droping (4598, 8)\n"
          ]
        }
      ]
    },
    {
      "cell_type": "markdown",
      "metadata": {
        "id": "zxjJTzpsHMl_"
      },
      "source": [
        "## **Absolute distance**\n",
        " As critical information, we use the pickup and dropoff locations to build new columns with the absolute longitudinal distances and the absolute distance traveled."
      ]
    },
    {
      "cell_type": "code",
      "metadata": {
        "id": "iUsGNreDHGLb"
      },
      "source": [
        "def add_abs_distances(df):\n",
        "    df['abs_diff_longitude'] = (df.dropoff_longitude - df.pickup_longitude).abs()\n",
        "    df['abs_diff_latitude'] = (df.dropoff_latitude - df.pickup_latitude).abs()\n",
        "    df['abs_distance'] = np.sqrt(np.square(df.abs_diff_longitude) + np.square(df.abs_diff_latitude))\n",
        "    return df\n",
        "\n",
        "train_df = add_abs_distances(train_df)"
      ],
      "execution_count": 74,
      "outputs": []
    },
    {
      "cell_type": "code",
      "metadata": {
        "colab": {
          "base_uri": "https://localhost:8080/",
          "height": 226
        },
        "id": "jHHwMzJhHeYq",
        "outputId": "2009291b-c1a9-4da0-9458-5eabaffb243f"
      },
      "source": [
        "train_df.head()"
      ],
      "execution_count": 75,
      "outputs": [
        {
          "output_type": "execute_result",
          "data": {
            "text/html": [
              "<div>\n",
              "<style scoped>\n",
              "    .dataframe tbody tr th:only-of-type {\n",
              "        vertical-align: middle;\n",
              "    }\n",
              "\n",
              "    .dataframe tbody tr th {\n",
              "        vertical-align: top;\n",
              "    }\n",
              "\n",
              "    .dataframe thead th {\n",
              "        text-align: right;\n",
              "    }\n",
              "</style>\n",
              "<table border=\"1\" class=\"dataframe\">\n",
              "  <thead>\n",
              "    <tr style=\"text-align: right;\">\n",
              "      <th></th>\n",
              "      <th>fare_amount</th>\n",
              "      <th>pickup_longitude</th>\n",
              "      <th>pickup_latitude</th>\n",
              "      <th>dropoff_longitude</th>\n",
              "      <th>dropoff_latitude</th>\n",
              "      <th>passenger_count</th>\n",
              "      <th>day</th>\n",
              "      <th>hour</th>\n",
              "      <th>weekday</th>\n",
              "      <th>month</th>\n",
              "      <th>year</th>\n",
              "      <th>abs_diff_longitude</th>\n",
              "      <th>abs_diff_latitude</th>\n",
              "      <th>abs_distance</th>\n",
              "    </tr>\n",
              "  </thead>\n",
              "  <tbody>\n",
              "    <tr>\n",
              "      <th>0</th>\n",
              "      <td>4.5</td>\n",
              "      <td>-73.982172</td>\n",
              "      <td>40.721319</td>\n",
              "      <td>-73.980329</td>\n",
              "      <td>40.712278</td>\n",
              "      <td>1</td>\n",
              "      <td>15</td>\n",
              "      <td>17</td>\n",
              "      <td>1</td>\n",
              "      <td>6</td>\n",
              "      <td>2009</td>\n",
              "      <td>0.001843</td>\n",
              "      <td>0.009041</td>\n",
              "      <td>0.009227</td>\n",
              "    </tr>\n",
              "    <tr>\n",
              "      <th>1</th>\n",
              "      <td>16.9</td>\n",
              "      <td>-74.016048</td>\n",
              "      <td>40.711303</td>\n",
              "      <td>-73.979268</td>\n",
              "      <td>40.782004</td>\n",
              "      <td>1</td>\n",
              "      <td>5</td>\n",
              "      <td>16</td>\n",
              "      <td>2</td>\n",
              "      <td>1</td>\n",
              "      <td>2010</td>\n",
              "      <td>0.036780</td>\n",
              "      <td>0.070701</td>\n",
              "      <td>0.079696</td>\n",
              "    </tr>\n",
              "    <tr>\n",
              "      <th>2</th>\n",
              "      <td>5.7</td>\n",
              "      <td>-73.982738</td>\n",
              "      <td>40.761270</td>\n",
              "      <td>-73.991242</td>\n",
              "      <td>40.750562</td>\n",
              "      <td>2</td>\n",
              "      <td>18</td>\n",
              "      <td>0</td>\n",
              "      <td>4</td>\n",
              "      <td>8</td>\n",
              "      <td>2011</td>\n",
              "      <td>0.008504</td>\n",
              "      <td>0.010708</td>\n",
              "      <td>0.013674</td>\n",
              "    </tr>\n",
              "    <tr>\n",
              "      <th>3</th>\n",
              "      <td>7.7</td>\n",
              "      <td>-73.987130</td>\n",
              "      <td>40.733143</td>\n",
              "      <td>-73.991567</td>\n",
              "      <td>40.758092</td>\n",
              "      <td>1</td>\n",
              "      <td>21</td>\n",
              "      <td>4</td>\n",
              "      <td>6</td>\n",
              "      <td>4</td>\n",
              "      <td>2012</td>\n",
              "      <td>0.004437</td>\n",
              "      <td>0.024949</td>\n",
              "      <td>0.025340</td>\n",
              "    </tr>\n",
              "    <tr>\n",
              "      <th>4</th>\n",
              "      <td>5.3</td>\n",
              "      <td>-73.968095</td>\n",
              "      <td>40.768008</td>\n",
              "      <td>-73.956655</td>\n",
              "      <td>40.783762</td>\n",
              "      <td>1</td>\n",
              "      <td>9</td>\n",
              "      <td>7</td>\n",
              "      <td>2</td>\n",
              "      <td>3</td>\n",
              "      <td>2010</td>\n",
              "      <td>0.011440</td>\n",
              "      <td>0.015754</td>\n",
              "      <td>0.019470</td>\n",
              "    </tr>\n",
              "  </tbody>\n",
              "</table>\n",
              "</div>"
            ],
            "text/plain": [
              "   fare_amount  pickup_longitude  ...  abs_diff_latitude  abs_distance\n",
              "0          4.5        -73.982172  ...           0.009041      0.009227\n",
              "1         16.9        -74.016048  ...           0.070701      0.079696\n",
              "2          5.7        -73.982738  ...           0.010708      0.013674\n",
              "3          7.7        -73.987130  ...           0.024949      0.025340\n",
              "4          5.3        -73.968095  ...           0.015754      0.019470\n",
              "\n",
              "[5 rows x 14 columns]"
            ]
          },
          "metadata": {},
          "execution_count": 75
        }
      ]
    },
    {
      "cell_type": "code",
      "metadata": {
        "id": "cDXMbcJFMOXJ"
      },
      "source": [
        "import matplotlib.pyplot as plt"
      ],
      "execution_count": 122,
      "outputs": []
    },
    {
      "cell_type": "code",
      "metadata": {
        "id": "qLkDWTg2NExS"
      },
      "source": [
        "def multi_scatter_plot(df, features, target):\n",
        "    \n",
        "    def single_plot(df, xlabel, ylabel):\n",
        "        x = df[xlabel]\n",
        "        fig, axes = plt.subplots(figsize=(6, 4))\n",
        "        axes.scatter(x, y, alpha=.3)\n",
        "        axes.set(xlabel=xlabel, ylabel=ylabel)\n",
        "        axes.legend()\n",
        "        plt.tight_layout()\n",
        "        plt.show()\n",
        "    \n",
        "    def double_plot(df, x_labels, ylabel):\n",
        "        fig, axes = plt.subplots(1, 2, figsize=(12, 4))\n",
        "        for i, xlabel in enumerate(x_labels):\n",
        "            x = df[xlabel]\n",
        "            axes[i].scatter(x, y, alpha=.3)\n",
        "            axes[i].set(xlabel=xlabel, ylabel=ylabel)\n",
        "            axes[i].legend()\n",
        "        plt.tight_layout()\n",
        "        plt.show()\n",
        "    \n",
        "    def multi_plot(df, x_labels, ylabel):\n",
        "        n = len(x_labels)//2\n",
        "        fig, axes = plt.subplots(n, 2, figsize=(12, 4*n))\n",
        "        count=0\n",
        "        for i in range(n):\n",
        "            for j in range(2):\n",
        "                xlabel = x_labels[count]\n",
        "                x = df[xlabel]\n",
        "                axes[i][j].scatter(x, y, alpha=.3)\n",
        "                axes[i][j].set(xlabel=xlabel, ylabel=ylabel)\n",
        "                axes[i][j].legend()\n",
        "                count += 1\n",
        "        plt.tight_layout()\n",
        "        plt.show()\n",
        "    \n",
        "    y = df[target]\n",
        "    ylabel = target\n",
        "    x_labels = features\n",
        "    \n",
        "    if len(x_labels)==1:\n",
        "        xlabel = x_labels[0]\n",
        "        single_plot(df, xlabel, ylabel)\n",
        "        \n",
        "    elif len(x_labels)==2:\n",
        "        double_plot(df, x_labels, ylabel)\n",
        "        \n",
        "    elif len(x_labels)==3:\n",
        "        double_plot(df, x_labels[:2], ylabel)\n",
        "        single_plot(df, x_labels[-1], ylabel)\n",
        "        \n",
        "    else:\n",
        "        multi_plot(df, x_labels, ylabel)\n",
        "        if len(x_labels)%2!=0:           \n",
        "            single_plot(df, x_labels[-1], ylabel)\n",
        "            "
      ],
      "execution_count": 123,
      "outputs": []
    },
    {
      "cell_type": "code",
      "metadata": {
        "colab": {
          "base_uri": "https://localhost:8080/",
          "height": 654
        },
        "id": "Zg7Tys22MLKi",
        "outputId": "e897895f-9e15-403d-ee32-f20c4dd4c266"
      },
      "source": [
        "features = ['abs_diff_longitude', 'abs_diff_latitude', 'abs_distance', 'passenger_count']\n",
        "target = 'fare_amount'\n",
        "multi_scatter_plot(train_df, features, target)"
      ],
      "execution_count": 124,
      "outputs": [
        {
          "output_type": "stream",
          "name": "stderr",
          "text": [
            "No handles with labels found to put in legend.\n",
            "No handles with labels found to put in legend.\n",
            "No handles with labels found to put in legend.\n",
            "No handles with labels found to put in legend.\n"
          ]
        },
        {
          "output_type": "display_data",
          "data": {
            "image/png": "[encoded data removed]",
            "text/plain": [
              "<Figure size 864x576 with 4 Axes>"
            ]
          },
          "metadata": {
            "needs_background": "light"
          }
        }
      ]
    },
    {
      "cell_type": "markdown",
      "metadata": {
        "id": "oMiNKYWQgSOD"
      },
      "source": [
        "##On different day and time there would be different price like during evening price would be more compare to afternoon, during christmas price would be different and similarly on weekends price would be different compare to week days. so lets create some extra features which will take care of all these things\n"
      ]
    },
    {
      "cell_type": "code",
      "metadata": {
        "id": "_ct-6Kwnaafz"
      },
      "source": [
        "import calendar\n",
        "train_df['day']=train_df['pickup_datetime'].apply(lambda x:x.day)\n",
        "train_df['hour']=train_df['pickup_datetime'].apply(lambda x:x.hour)\n",
        "train_df['weekday']=train_df['pickup_datetime'].apply(lambda x:calendar.day_name[x.weekday()])\n",
        "train_df['month']=train_df['pickup_datetime'].apply(lambda x:x.month)\n",
        "train_df['year']=train_df['pickup_datetime'].apply(lambda x:x.year)\n"
      ],
      "execution_count": 30,
      "outputs": []
    },
    {
      "cell_type": "code",
      "metadata": {
        "colab": {
          "base_uri": "https://localhost:8080/",
          "height": 293
        },
        "id": "ExFOKL3ia-ho",
        "outputId": "5917a248-fe82-48af-b917-c359ad7c3ce8"
      },
      "source": [
        "train_df.head()"
      ],
      "execution_count": 31,
      "outputs": [
        {
          "output_type": "execute_result",
          "data": {
            "text/html": [
              "<div>\n",
              "<style scoped>\n",
              "    .dataframe tbody tr th:only-of-type {\n",
              "        vertical-align: middle;\n",
              "    }\n",
              "\n",
              "    .dataframe tbody tr th {\n",
              "        vertical-align: top;\n",
              "    }\n",
              "\n",
              "    .dataframe thead th {\n",
              "        text-align: right;\n",
              "    }\n",
              "</style>\n",
              "<table border=\"1\" class=\"dataframe\">\n",
              "  <thead>\n",
              "    <tr style=\"text-align: right;\">\n",
              "      <th></th>\n",
              "      <th>key</th>\n",
              "      <th>fare_amount</th>\n",
              "      <th>pickup_datetime</th>\n",
              "      <th>pickup_longitude</th>\n",
              "      <th>pickup_latitude</th>\n",
              "      <th>dropoff_longitude</th>\n",
              "      <th>dropoff_latitude</th>\n",
              "      <th>passenger_count</th>\n",
              "      <th>day</th>\n",
              "      <th>hour</th>\n",
              "      <th>weekday</th>\n",
              "      <th>month</th>\n",
              "      <th>year</th>\n",
              "    </tr>\n",
              "  </thead>\n",
              "  <tbody>\n",
              "    <tr>\n",
              "      <th>0</th>\n",
              "      <td>2009-06-15 17:26:21.0000001</td>\n",
              "      <td>4.5</td>\n",
              "      <td>2009-06-15 17:26:21+00:00</td>\n",
              "      <td>-73.982172</td>\n",
              "      <td>40.721319</td>\n",
              "      <td>-73.980329</td>\n",
              "      <td>40.712278</td>\n",
              "      <td>1</td>\n",
              "      <td>15</td>\n",
              "      <td>17</td>\n",
              "      <td>Monday</td>\n",
              "      <td>6</td>\n",
              "      <td>2009</td>\n",
              "    </tr>\n",
              "    <tr>\n",
              "      <th>1</th>\n",
              "      <td>2010-01-05 16:52:16.0000002</td>\n",
              "      <td>16.9</td>\n",
              "      <td>2010-01-05 16:52:16+00:00</td>\n",
              "      <td>-74.016048</td>\n",
              "      <td>40.711303</td>\n",
              "      <td>-73.979268</td>\n",
              "      <td>40.782004</td>\n",
              "      <td>1</td>\n",
              "      <td>5</td>\n",
              "      <td>16</td>\n",
              "      <td>Tuesday</td>\n",
              "      <td>1</td>\n",
              "      <td>2010</td>\n",
              "    </tr>\n",
              "    <tr>\n",
              "      <th>2</th>\n",
              "      <td>2011-08-18 00:35:00.00000049</td>\n",
              "      <td>5.7</td>\n",
              "      <td>2011-08-18 00:35:00+00:00</td>\n",
              "      <td>-73.982738</td>\n",
              "      <td>40.761270</td>\n",
              "      <td>-73.991242</td>\n",
              "      <td>40.750562</td>\n",
              "      <td>2</td>\n",
              "      <td>18</td>\n",
              "      <td>0</td>\n",
              "      <td>Thursday</td>\n",
              "      <td>8</td>\n",
              "      <td>2011</td>\n",
              "    </tr>\n",
              "    <tr>\n",
              "      <th>3</th>\n",
              "      <td>2012-04-21 04:30:42.0000001</td>\n",
              "      <td>7.7</td>\n",
              "      <td>2012-04-21 04:30:42+00:00</td>\n",
              "      <td>-73.987130</td>\n",
              "      <td>40.733143</td>\n",
              "      <td>-73.991567</td>\n",
              "      <td>40.758092</td>\n",
              "      <td>1</td>\n",
              "      <td>21</td>\n",
              "      <td>4</td>\n",
              "      <td>Saturday</td>\n",
              "      <td>4</td>\n",
              "      <td>2012</td>\n",
              "    </tr>\n",
              "    <tr>\n",
              "      <th>4</th>\n",
              "      <td>2010-03-09 07:51:00.000000135</td>\n",
              "      <td>5.3</td>\n",
              "      <td>2010-03-09 07:51:00+00:00</td>\n",
              "      <td>-73.968095</td>\n",
              "      <td>40.768008</td>\n",
              "      <td>-73.956655</td>\n",
              "      <td>40.783762</td>\n",
              "      <td>1</td>\n",
              "      <td>9</td>\n",
              "      <td>7</td>\n",
              "      <td>Tuesday</td>\n",
              "      <td>3</td>\n",
              "      <td>2010</td>\n",
              "    </tr>\n",
              "  </tbody>\n",
              "</table>\n",
              "</div>"
            ],
            "text/plain": [
              "                             key  fare_amount  ... month  year\n",
              "0    2009-06-15 17:26:21.0000001          4.5  ...     6  2009\n",
              "1    2010-01-05 16:52:16.0000002         16.9  ...     1  2010\n",
              "2   2011-08-18 00:35:00.00000049          5.7  ...     8  2011\n",
              "3    2012-04-21 04:30:42.0000001          7.7  ...     4  2012\n",
              "4  2010-03-09 07:51:00.000000135          5.3  ...     3  2010\n",
              "\n",
              "[5 rows x 13 columns]"
            ]
          },
          "metadata": {},
          "execution_count": 31
        }
      ]
    },
    {
      "cell_type": "code",
      "metadata": {
        "id": "H8pSygl3a-kT"
      },
      "source": [
        "train_df.weekday = train_df.weekday.map({'Sunday':0,'Monday':1,'Tuesday':2,'Wednesday':3,'Thursday':4,'Friday':5,'Saturday':6})"
      ],
      "execution_count": 32,
      "outputs": []
    },
    {
      "cell_type": "code",
      "metadata": {
        "colab": {
          "base_uri": "https://localhost:8080/"
        },
        "id": "GPxPmsKua-m2",
        "outputId": "96def4da-8454-4449-b8e1-0fb673f08ef4"
      },
      "source": [
        "train_df.info()"
      ],
      "execution_count": 33,
      "outputs": [
        {
          "output_type": "stream",
          "name": "stdout",
          "text": [
            "<class 'pandas.core.frame.DataFrame'>\n",
            "Int64Index: 4598 entries, 0 to 4999\n",
            "Data columns (total 13 columns):\n",
            " #   Column             Non-Null Count  Dtype              \n",
            "---  ------             --------------  -----              \n",
            " 0   key                4598 non-null   object             \n",
            " 1   fare_amount        4598 non-null   float64            \n",
            " 2   pickup_datetime    4598 non-null   datetime64[ns, UTC]\n",
            " 3   pickup_longitude   4598 non-null   float64            \n",
            " 4   pickup_latitude    4598 non-null   float64            \n",
            " 5   dropoff_longitude  4598 non-null   float64            \n",
            " 6   dropoff_latitude   4598 non-null   float64            \n",
            " 7   passenger_count    4598 non-null   category           \n",
            " 8   day                4598 non-null   int64              \n",
            " 9   hour               4598 non-null   int64              \n",
            " 10  weekday            4598 non-null   int64              \n",
            " 11  month              4598 non-null   int64              \n",
            " 12  year               4598 non-null   int64              \n",
            "dtypes: category(1), datetime64[ns, UTC](1), float64(5), int64(5), object(1)\n",
            "memory usage: 631.7+ KB\n"
          ]
        }
      ]
    },
    {
      "cell_type": "code",
      "metadata": {
        "id": "yD-dB7Bla-u0"
      },
      "source": [
        "train_df.drop([\"key\",\"pickup_datetime\"], axis=1, inplace=True)"
      ],
      "execution_count": 34,
      "outputs": []
    },
    {
      "cell_type": "code",
      "metadata": {
        "colab": {
          "base_uri": "https://localhost:8080/"
        },
        "id": "hne5abn1a-xi",
        "outputId": "4482bb1a-53d5-4889-bc16-0346e66dc4aa"
      },
      "source": [
        "train_df.info()"
      ],
      "execution_count": 35,
      "outputs": [
        {
          "output_type": "stream",
          "name": "stdout",
          "text": [
            "<class 'pandas.core.frame.DataFrame'>\n",
            "Int64Index: 4598 entries, 0 to 4999\n",
            "Data columns (total 11 columns):\n",
            " #   Column             Non-Null Count  Dtype   \n",
            "---  ------             --------------  -----   \n",
            " 0   fare_amount        4598 non-null   float64 \n",
            " 1   pickup_longitude   4598 non-null   float64 \n",
            " 2   pickup_latitude    4598 non-null   float64 \n",
            " 3   dropoff_longitude  4598 non-null   float64 \n",
            " 4   dropoff_latitude   4598 non-null   float64 \n",
            " 5   passenger_count    4598 non-null   category\n",
            " 6   day                4598 non-null   int64   \n",
            " 7   hour               4598 non-null   int64   \n",
            " 8   weekday            4598 non-null   int64   \n",
            " 9   month              4598 non-null   int64   \n",
            " 10  year               4598 non-null   int64   \n",
            "dtypes: category(1), float64(5), int64(5)\n",
            "memory usage: 559.8 KB\n"
          ]
        }
      ]
    },
    {
      "cell_type": "markdown",
      "metadata": {
        "id": "0uFfw5dbF-1k"
      },
      "source": [
        "##**Linear correlation**\n",
        "Next, let's compute the correlation matrix to identify those features that are most correlated with the target and those that are most correlated to each other. The former type corresponds to the best predictors and the latter type those that introduce multicollinearity. For two variables,  x  and  y , the formula is as follows\n",
        "\n",
        "∑i,j(xi−x¯))(yj−y¯)/σ iσ j \n",
        "\n",
        "We do this just after separating a test data set, and use the train data set only, so as not to involve the test data set in any feature selection procedures."
      ]
    },
    {
      "cell_type": "code",
      "metadata": {
        "colab": {
          "base_uri": "https://localhost:8080/",
          "height": 549
        },
        "id": "11zZcmQpFtY7",
        "outputId": "b44a9185-f460-456c-f68d-dbb93ee33e3c"
      },
      "source": [
        "def corr_heatmap(df):\n",
        "    corr_data = df.corr()\n",
        "    fig, ax = plt.subplots(figsize=(10,8))\n",
        "    # Add title\n",
        "    #plt.title(title, fontsize=12)\n",
        "    # Heatmap showing the amount of genomes with the same MIC for each MIC, by antibiotic\n",
        "    sns.heatmap(corr_data, annot=corr_data, cmap='Blues', cbar=True, fmt='.2f')\n",
        "    # Rotate the tick labels and set their alignment.\n",
        "    plt.setp(ax.get_xticklabels(), rotation=45, ha='right', rotation_mode='anchor')\n",
        "    plt.show()\n",
        "    \n",
        "corr_heatmap(train_df)\n"
      ],
      "execution_count": 76,
      "outputs": [
        {
          "output_type": "display_data",
          "data": {
            "image/png": "[encoded data removed]",
            "text/plain": [
              "<Figure size 720x576 with 2 Axes>"
            ]
          },
          "metadata": {
            "needs_background": "light"
          }
        }
      ]
    },
    {
      "cell_type": "markdown",
      "metadata": {
        "id": "7H1R85qwgfPp"
      },
      "source": [
        "##lets divide the data set into train and validation test set\n"
      ]
    },
    {
      "cell_type": "code",
      "metadata": {
        "id": "Qskk6Lb-a-07"
      },
      "source": [
        "from sklearn.model_selection import train_test_split"
      ],
      "execution_count": 77,
      "outputs": []
    },
    {
      "cell_type": "code",
      "metadata": {
        "id": "_xGIgJkVaajS"
      },
      "source": [
        "x=train_df.drop(\"fare_amount\", axis=1)\n",
        "y=train_df['fare_amount']\n",
        "x_train,x_test,y_train,y_test = train_test_split(x,y,test_size=0.2,random_state=101)"
      ],
      "execution_count": 78,
      "outputs": []
    },
    {
      "cell_type": "code",
      "metadata": {
        "colab": {
          "base_uri": "https://localhost:8080/",
          "height": 206
        },
        "id": "kx5XvJNfYvw9",
        "outputId": "020835b1-8e8f-4cc8-deda-c521107bd583"
      },
      "source": [
        "x_train.head()"
      ],
      "execution_count": 79,
      "outputs": [
        {
          "output_type": "execute_result",
          "data": {
            "text/html": [
              "<div>\n",
              "<style scoped>\n",
              "    .dataframe tbody tr th:only-of-type {\n",
              "        vertical-align: middle;\n",
              "    }\n",
              "\n",
              "    .dataframe tbody tr th {\n",
              "        vertical-align: top;\n",
              "    }\n",
              "\n",
              "    .dataframe thead th {\n",
              "        text-align: right;\n",
              "    }\n",
              "</style>\n",
              "<table border=\"1\" class=\"dataframe\">\n",
              "  <thead>\n",
              "    <tr style=\"text-align: right;\">\n",
              "      <th></th>\n",
              "      <th>pickup_longitude</th>\n",
              "      <th>pickup_latitude</th>\n",
              "      <th>dropoff_longitude</th>\n",
              "      <th>dropoff_latitude</th>\n",
              "      <th>passenger_count</th>\n",
              "      <th>day</th>\n",
              "      <th>hour</th>\n",
              "      <th>weekday</th>\n",
              "      <th>month</th>\n",
              "      <th>year</th>\n",
              "      <th>abs_diff_longitude</th>\n",
              "      <th>abs_diff_latitude</th>\n",
              "      <th>abs_distance</th>\n",
              "    </tr>\n",
              "  </thead>\n",
              "  <tbody>\n",
              "    <tr>\n",
              "      <th>691</th>\n",
              "      <td>-73.979982</td>\n",
              "      <td>40.762695</td>\n",
              "      <td>-73.962557</td>\n",
              "      <td>40.804685</td>\n",
              "      <td>1</td>\n",
              "      <td>7</td>\n",
              "      <td>0</td>\n",
              "      <td>2</td>\n",
              "      <td>7</td>\n",
              "      <td>2009</td>\n",
              "      <td>0.017425</td>\n",
              "      <td>0.041990</td>\n",
              "      <td>0.045462</td>\n",
              "    </tr>\n",
              "    <tr>\n",
              "      <th>4749</th>\n",
              "      <td>-73.985657</td>\n",
              "      <td>40.738266</td>\n",
              "      <td>-74.004349</td>\n",
              "      <td>40.742195</td>\n",
              "      <td>6</td>\n",
              "      <td>25</td>\n",
              "      <td>2</td>\n",
              "      <td>4</td>\n",
              "      <td>6</td>\n",
              "      <td>2015</td>\n",
              "      <td>0.018692</td>\n",
              "      <td>0.003929</td>\n",
              "      <td>0.019101</td>\n",
              "    </tr>\n",
              "    <tr>\n",
              "      <th>1602</th>\n",
              "      <td>-73.975297</td>\n",
              "      <td>40.752142</td>\n",
              "      <td>-73.994269</td>\n",
              "      <td>40.745782</td>\n",
              "      <td>1</td>\n",
              "      <td>6</td>\n",
              "      <td>7</td>\n",
              "      <td>4</td>\n",
              "      <td>11</td>\n",
              "      <td>2014</td>\n",
              "      <td>0.018972</td>\n",
              "      <td>0.006360</td>\n",
              "      <td>0.020010</td>\n",
              "    </tr>\n",
              "    <tr>\n",
              "      <th>985</th>\n",
              "      <td>-73.984950</td>\n",
              "      <td>40.759487</td>\n",
              "      <td>-73.970597</td>\n",
              "      <td>40.694542</td>\n",
              "      <td>6</td>\n",
              "      <td>27</td>\n",
              "      <td>23</td>\n",
              "      <td>4</td>\n",
              "      <td>12</td>\n",
              "      <td>2012</td>\n",
              "      <td>0.014353</td>\n",
              "      <td>0.064945</td>\n",
              "      <td>0.066512</td>\n",
              "    </tr>\n",
              "    <tr>\n",
              "      <th>2701</th>\n",
              "      <td>-74.005536</td>\n",
              "      <td>40.741006</td>\n",
              "      <td>-74.015577</td>\n",
              "      <td>40.709957</td>\n",
              "      <td>1</td>\n",
              "      <td>12</td>\n",
              "      <td>20</td>\n",
              "      <td>5</td>\n",
              "      <td>4</td>\n",
              "      <td>2013</td>\n",
              "      <td>0.010041</td>\n",
              "      <td>0.031049</td>\n",
              "      <td>0.032632</td>\n",
              "    </tr>\n",
              "  </tbody>\n",
              "</table>\n",
              "</div>"
            ],
            "text/plain": [
              "      pickup_longitude  pickup_latitude  ...  abs_diff_latitude  abs_distance\n",
              "691         -73.979982        40.762695  ...           0.041990      0.045462\n",
              "4749        -73.985657        40.738266  ...           0.003929      0.019101\n",
              "1602        -73.975297        40.752142  ...           0.006360      0.020010\n",
              "985         -73.984950        40.759487  ...           0.064945      0.066512\n",
              "2701        -74.005536        40.741006  ...           0.031049      0.032632\n",
              "\n",
              "[5 rows x 13 columns]"
            ]
          },
          "metadata": {},
          "execution_count": 79
        }
      ]
    },
    {
      "cell_type": "code",
      "metadata": {
        "colab": {
          "base_uri": "https://localhost:8080/",
          "height": 206
        },
        "id": "J4_ofQCoVonx",
        "outputId": "8e810aaf-dbea-4eed-c175-351e2d011387"
      },
      "source": [
        "x_test.head()"
      ],
      "execution_count": 80,
      "outputs": [
        {
          "output_type": "execute_result",
          "data": {
            "text/html": [
              "<div>\n",
              "<style scoped>\n",
              "    .dataframe tbody tr th:only-of-type {\n",
              "        vertical-align: middle;\n",
              "    }\n",
              "\n",
              "    .dataframe tbody tr th {\n",
              "        vertical-align: top;\n",
              "    }\n",
              "\n",
              "    .dataframe thead th {\n",
              "        text-align: right;\n",
              "    }\n",
              "</style>\n",
              "<table border=\"1\" class=\"dataframe\">\n",
              "  <thead>\n",
              "    <tr style=\"text-align: right;\">\n",
              "      <th></th>\n",
              "      <th>pickup_longitude</th>\n",
              "      <th>pickup_latitude</th>\n",
              "      <th>dropoff_longitude</th>\n",
              "      <th>dropoff_latitude</th>\n",
              "      <th>passenger_count</th>\n",
              "      <th>day</th>\n",
              "      <th>hour</th>\n",
              "      <th>weekday</th>\n",
              "      <th>month</th>\n",
              "      <th>year</th>\n",
              "      <th>abs_diff_longitude</th>\n",
              "      <th>abs_diff_latitude</th>\n",
              "      <th>abs_distance</th>\n",
              "    </tr>\n",
              "  </thead>\n",
              "  <tbody>\n",
              "    <tr>\n",
              "      <th>3089</th>\n",
              "      <td>-74.012033</td>\n",
              "      <td>40.715330</td>\n",
              "      <td>-74.011588</td>\n",
              "      <td>40.716130</td>\n",
              "      <td>1</td>\n",
              "      <td>22</td>\n",
              "      <td>0</td>\n",
              "      <td>5</td>\n",
              "      <td>11</td>\n",
              "      <td>2013</td>\n",
              "      <td>0.000445</td>\n",
              "      <td>0.000800</td>\n",
              "      <td>0.000915</td>\n",
              "    </tr>\n",
              "    <tr>\n",
              "      <th>2132</th>\n",
              "      <td>-73.989093</td>\n",
              "      <td>40.778335</td>\n",
              "      <td>-73.982759</td>\n",
              "      <td>40.779166</td>\n",
              "      <td>1</td>\n",
              "      <td>24</td>\n",
              "      <td>13</td>\n",
              "      <td>3</td>\n",
              "      <td>6</td>\n",
              "      <td>2009</td>\n",
              "      <td>0.006334</td>\n",
              "      <td>0.000831</td>\n",
              "      <td>0.006388</td>\n",
              "    </tr>\n",
              "    <tr>\n",
              "      <th>3220</th>\n",
              "      <td>-73.964004</td>\n",
              "      <td>40.757010</td>\n",
              "      <td>-73.957582</td>\n",
              "      <td>40.768733</td>\n",
              "      <td>1</td>\n",
              "      <td>3</td>\n",
              "      <td>22</td>\n",
              "      <td>5</td>\n",
              "      <td>9</td>\n",
              "      <td>2010</td>\n",
              "      <td>0.006422</td>\n",
              "      <td>0.011723</td>\n",
              "      <td>0.013367</td>\n",
              "    </tr>\n",
              "    <tr>\n",
              "      <th>1961</th>\n",
              "      <td>-73.967963</td>\n",
              "      <td>40.764812</td>\n",
              "      <td>-73.948088</td>\n",
              "      <td>40.778895</td>\n",
              "      <td>1</td>\n",
              "      <td>26</td>\n",
              "      <td>17</td>\n",
              "      <td>1</td>\n",
              "      <td>4</td>\n",
              "      <td>2010</td>\n",
              "      <td>0.019875</td>\n",
              "      <td>0.014083</td>\n",
              "      <td>0.024359</td>\n",
              "    </tr>\n",
              "    <tr>\n",
              "      <th>1738</th>\n",
              "      <td>-73.982236</td>\n",
              "      <td>40.756820</td>\n",
              "      <td>-73.982447</td>\n",
              "      <td>40.722452</td>\n",
              "      <td>1</td>\n",
              "      <td>11</td>\n",
              "      <td>22</td>\n",
              "      <td>5</td>\n",
              "      <td>5</td>\n",
              "      <td>2012</td>\n",
              "      <td>0.000211</td>\n",
              "      <td>0.034368</td>\n",
              "      <td>0.034369</td>\n",
              "    </tr>\n",
              "  </tbody>\n",
              "</table>\n",
              "</div>"
            ],
            "text/plain": [
              "      pickup_longitude  pickup_latitude  ...  abs_diff_latitude  abs_distance\n",
              "3089        -74.012033        40.715330  ...           0.000800      0.000915\n",
              "2132        -73.989093        40.778335  ...           0.000831      0.006388\n",
              "3220        -73.964004        40.757010  ...           0.011723      0.013367\n",
              "1961        -73.967963        40.764812  ...           0.014083      0.024359\n",
              "1738        -73.982236        40.756820  ...           0.034368      0.034369\n",
              "\n",
              "[5 rows x 13 columns]"
            ]
          },
          "metadata": {},
          "execution_count": 80
        }
      ]
    },
    {
      "cell_type": "code",
      "metadata": {
        "colab": {
          "base_uri": "https://localhost:8080/"
        },
        "id": "0RUXPEUgbyPv",
        "outputId": "534f38a6-186a-4f31-c01a-37877cd5a808"
      },
      "source": [
        "x_train.shape"
      ],
      "execution_count": 81,
      "outputs": [
        {
          "output_type": "execute_result",
          "data": {
            "text/plain": [
              "(3678, 13)"
            ]
          },
          "metadata": {},
          "execution_count": 81
        }
      ]
    },
    {
      "cell_type": "code",
      "metadata": {
        "colab": {
          "base_uri": "https://localhost:8080/"
        },
        "id": "XL9xpD7JbyRt",
        "outputId": "3ac96161-280a-4301-a75c-2ec7f1026b94"
      },
      "source": [
        "x_test.shape"
      ],
      "execution_count": 82,
      "outputs": [
        {
          "output_type": "execute_result",
          "data": {
            "text/plain": [
              "(920, 13)"
            ]
          },
          "metadata": {},
          "execution_count": 82
        }
      ]
    },
    {
      "cell_type": "markdown",
      "metadata": {
        "id": "M8NjvgliBfta"
      },
      "source": [
        "## ***DECISION TREE REGRESSOR***"
      ]
    },
    {
      "cell_type": "code",
      "metadata": {
        "id": "F4-H3l1qBDUU"
      },
      "source": [
        "from sklearn.tree import DecisionTreeRegressor"
      ],
      "execution_count": 84,
      "outputs": []
    },
    {
      "cell_type": "code",
      "metadata": {
        "id": "GPQVbHqoBO09"
      },
      "source": [
        "# Divide the data into train and test\n",
        "train1, test1 = train_test_split(train_df, test_size=0.2)"
      ],
      "execution_count": 85,
      "outputs": []
    },
    {
      "cell_type": "code",
      "metadata": {
        "colab": {
          "base_uri": "https://localhost:8080/"
        },
        "id": "mVlg3NqaBDQy",
        "outputId": "f7607746-446a-49b5-d095-50e71ab87ada"
      },
      "source": [
        "# Decision tree for regression\n",
        "fit_DT = DecisionTreeRegressor(random_state=0)\n",
        "fit_DT.fit(train1.iloc[:, 11:14], train1.iloc[:,0])"
      ],
      "execution_count": 90,
      "outputs": [
        {
          "output_type": "execute_result",
          "data": {
            "text/plain": [
              "DecisionTreeRegressor(random_state=0)"
            ]
          },
          "metadata": {},
          "execution_count": 90
        }
      ]
    },
    {
      "cell_type": "code",
      "metadata": {
        "id": "bHG2C2YbBDK8"
      },
      "source": [
        "#Apply model on test data\n",
        "predictions_DT = fit_DT.predict((test1).iloc[:,11:14])"
      ],
      "execution_count": 92,
      "outputs": []
    },
    {
      "cell_type": "code",
      "metadata": {
        "id": "hJLUUbVvBDII"
      },
      "source": [
        "#Calculate MAPE\n",
        "def MAPE(y_true, y_pred): \n",
        "    mape = np.mean(np.abs((y_true - y_pred) / y_true))*100\n",
        "    return mape"
      ],
      "execution_count": 95,
      "outputs": []
    },
    {
      "cell_type": "code",
      "metadata": {
        "colab": {
          "base_uri": "https://localhost:8080/"
        },
        "id": "6VCAA5-LB-VG",
        "outputId": "110e7fa3-d922-4de7-abd0-9a1d24f5487d"
      },
      "source": [
        "MAPE(test1.iloc[:,0], predictions_DT)"
      ],
      "execution_count": 96,
      "outputs": [
        {
          "output_type": "execute_result",
          "data": {
            "text/plain": [
              "33.13470818849844"
            ]
          },
          "metadata": {},
          "execution_count": 96
        }
      ]
    },
    {
      "cell_type": "markdown",
      "metadata": {
        "id": "bUEgaKdNCIyc"
      },
      "source": [
        "## ***LINEAR REGRESSION***"
      ]
    },
    {
      "cell_type": "code",
      "metadata": {
        "id": "vw2IE7NpbyT9"
      },
      "source": [
        "from sklearn.linear_model import LinearRegression"
      ],
      "execution_count": 97,
      "outputs": []
    },
    {
      "cell_type": "code",
      "metadata": {
        "id": "K0TdDtGwbyWu",
        "colab": {
          "base_uri": "https://localhost:8080/"
        },
        "outputId": "8757599b-968f-49bf-d827-a0bc297cef84"
      },
      "source": [
        "lrmodel=LinearRegression()\n",
        "lrmodel.fit(x_train, y_train)"
      ],
      "execution_count": 98,
      "outputs": [
        {
          "output_type": "execute_result",
          "data": {
            "text/plain": [
              "LinearRegression()"
            ]
          },
          "metadata": {},
          "execution_count": 98
        }
      ]
    },
    {
      "cell_type": "code",
      "metadata": {
        "id": "U6z3CHPlbyZH"
      },
      "source": [
        "predictedvalues = lrmodel.predict(x_test)"
      ],
      "execution_count": 99,
      "outputs": []
    },
    {
      "cell_type": "code",
      "metadata": {
        "colab": {
          "base_uri": "https://localhost:8080/"
        },
        "id": "bNjzEH-7cCyX",
        "outputId": "6906e36a-6781-4bc4-8188-67da6c5dc342"
      },
      "source": [
        "#lets calculate rmse for linear Regression model\n",
        "from sklearn.metrics import mean_squared_error\n",
        "lrmodelrmse = np.sqrt(mean_squared_error(predictedvalues, y_test))\n",
        "print(\"RMSE value for Linear regression is\", lrmodelrmse)\n"
      ],
      "execution_count": 100,
      "outputs": [
        {
          "output_type": "stream",
          "name": "stdout",
          "text": [
            "RMSE value for Linear regression is 3.443052709063628\n"
          ]
        }
      ]
    },
    {
      "cell_type": "code",
      "metadata": {
        "colab": {
          "base_uri": "https://localhost:8080/"
        },
        "id": "du1PqbamGlSK",
        "outputId": "8956eff9-0195-4f36-9845-ab44f81a54df"
      },
      "source": [
        "#Import libraries for LR\n",
        "import statsmodels.api as sm"
      ],
      "execution_count": 57,
      "outputs": [
        {
          "output_type": "stream",
          "name": "stderr",
          "text": [
            "/usr/local/lib/python3.7/dist-packages/statsmodels/tools/_testing.py:19: FutureWarning: pandas.util.testing is deprecated. Use the functions in the public API at pandas.testing instead.\n",
            "  import pandas.util.testing as tm\n"
          ]
        }
      ]
    },
    {
      "cell_type": "code",
      "metadata": {
        "id": "pgRCOoCxG2Uf"
      },
      "source": [
        "# Train the model using the training sets\n",
        "model = sm.OLS(x_train.iloc[:, 0].astype(float), x_train.iloc[:, 1:12].astype(float)).fit()"
      ],
      "execution_count": 131,
      "outputs": []
    },
    {
      "cell_type": "code",
      "metadata": {
        "colab": {
          "base_uri": "https://localhost:8080/",
          "height": 667
        },
        "id": "x63fEyHBG4lF",
        "outputId": "fe8a35c3-5e71-4029-8fce-4742cca9a007"
      },
      "source": [
        "#Print out the statistics\n",
        "model.summary()"
      ],
      "execution_count": 103,
      "outputs": [
        {
          "output_type": "execute_result",
          "data": {
            "text/html": [
              "<table class=\"simpletable\">\n",
              "<caption>OLS Regression Results</caption>\n",
              "<tr>\n",
              "  <th>Dep. Variable:</th>    <td>pickup_longitude</td> <th>  R-squared (uncentered):</th>       <td>   1.000</td> \n",
              "</tr>\n",
              "<tr>\n",
              "  <th>Model:</th>                   <td>OLS</td>       <th>  Adj. R-squared (uncentered):</th>  <td>   1.000</td> \n",
              "</tr>\n",
              "<tr>\n",
              "  <th>Method:</th>             <td>Least Squares</td>  <th>  F-statistic:       </th>           <td>7.486e+09</td>\n",
              "</tr>\n",
              "<tr>\n",
              "  <th>Date:</th>             <td>Sun, 05 Dec 2021</td> <th>  Prob (F-statistic):</th>            <td>  0.00</td>  \n",
              "</tr>\n",
              "<tr>\n",
              "  <th>Time:</th>                 <td>15:11:12</td>     <th>  Log-Likelihood:    </th>           <td>  10080.</td> \n",
              "</tr>\n",
              "<tr>\n",
              "  <th>No. Observations:</th>      <td>  3678</td>      <th>  AIC:               </th>          <td>-2.014e+04</td>\n",
              "</tr>\n",
              "<tr>\n",
              "  <th>Df Residuals:</th>          <td>  3667</td>      <th>  BIC:               </th>          <td>-2.007e+04</td>\n",
              "</tr>\n",
              "<tr>\n",
              "  <th>Df Model:</th>              <td>    11</td>      <th>                     </th>               <td> </td>    \n",
              "</tr>\n",
              "<tr>\n",
              "  <th>Covariance Type:</th>      <td>nonrobust</td>    <th>                     </th>               <td> </td>    \n",
              "</tr>\n",
              "</table>\n",
              "<table class=\"simpletable\">\n",
              "<tr>\n",
              "           <td></td>             <th>coef</th>     <th>std err</th>      <th>t</th>      <th>P>|t|</th>  <th>[0.025</th>    <th>0.975]</th>  \n",
              "</tr>\n",
              "<tr>\n",
              "  <th>pickup_latitude</th>    <td>    0.3768</td> <td>    0.013</td> <td>   28.894</td> <td> 0.000</td> <td>    0.351</td> <td>    0.402</td>\n",
              "</tr>\n",
              "<tr>\n",
              "  <th>dropoff_longitude</th>  <td>    0.9343</td> <td>    0.006</td> <td>  145.725</td> <td> 0.000</td> <td>    0.922</td> <td>    0.947</td>\n",
              "</tr>\n",
              "<tr>\n",
              "  <th>dropoff_latitude</th>   <td>   -0.4522</td> <td>    0.012</td> <td>  -38.857</td> <td> 0.000</td> <td>   -0.475</td> <td>   -0.429</td>\n",
              "</tr>\n",
              "<tr>\n",
              "  <th>passenger_count</th>    <td>    0.0001</td> <td>    0.000</td> <td>    0.599</td> <td> 0.549</td> <td>   -0.000</td> <td>    0.001</td>\n",
              "</tr>\n",
              "<tr>\n",
              "  <th>day</th>                <td>-1.647e-05</td> <td> 2.99e-05</td> <td>   -0.551</td> <td> 0.582</td> <td>-7.51e-05</td> <td> 4.22e-05</td>\n",
              "</tr>\n",
              "<tr>\n",
              "  <th>hour</th>               <td>  7.89e-05</td> <td> 3.98e-05</td> <td>    1.985</td> <td> 0.047</td> <td> 9.53e-07</td> <td>    0.000</td>\n",
              "</tr>\n",
              "<tr>\n",
              "  <th>weekday</th>            <td> -5.67e-05</td> <td>    0.000</td> <td>   -0.439</td> <td> 0.661</td> <td>   -0.000</td> <td>    0.000</td>\n",
              "</tr>\n",
              "<tr>\n",
              "  <th>month</th>              <td>   -0.0002</td> <td>  7.6e-05</td> <td>   -2.741</td> <td> 0.006</td> <td>   -0.000</td> <td>-5.93e-05</td>\n",
              "</tr>\n",
              "<tr>\n",
              "  <th>year</th>               <td>   -0.0009</td> <td>    0.000</td> <td>   -6.500</td> <td> 0.000</td> <td>   -0.001</td> <td>   -0.001</td>\n",
              "</tr>\n",
              "<tr>\n",
              "  <th>abs_diff_longitude</th> <td>   -0.2551</td> <td>    0.023</td> <td>  -10.940</td> <td> 0.000</td> <td>   -0.301</td> <td>   -0.209</td>\n",
              "</tr>\n",
              "<tr>\n",
              "  <th>abs_diff_latitude</th>  <td>    0.0318</td> <td>    0.018</td> <td>    1.721</td> <td> 0.085</td> <td>   -0.004</td> <td>    0.068</td>\n",
              "</tr>\n",
              "</table>\n",
              "<table class=\"simpletable\">\n",
              "<tr>\n",
              "  <th>Omnibus:</th>       <td>112.037</td> <th>  Durbin-Watson:     </th> <td>   1.945</td>\n",
              "</tr>\n",
              "<tr>\n",
              "  <th>Prob(Omnibus):</th> <td> 0.000</td>  <th>  Jarque-Bera (JB):  </th> <td> 229.333</td>\n",
              "</tr>\n",
              "<tr>\n",
              "  <th>Skew:</th>          <td> 0.196</td>  <th>  Prob(JB):          </th> <td>1.59e-50</td>\n",
              "</tr>\n",
              "<tr>\n",
              "  <th>Kurtosis:</th>      <td> 4.159</td>  <th>  Cond. No.          </th> <td>1.98e+05</td>\n",
              "</tr>\n",
              "</table><br/><br/>Warnings:<br/>[1] Standard Errors assume that the covariance matrix of the errors is correctly specified.<br/>[2] The condition number is large, 1.98e+05. This might indicate that there are<br/>strong multicollinearity or other numerical problems."
            ],
            "text/plain": [
              "<class 'statsmodels.iolib.summary.Summary'>\n",
              "\"\"\"\n",
              "                                 OLS Regression Results                                \n",
              "=======================================================================================\n",
              "Dep. Variable:       pickup_longitude   R-squared (uncentered):                   1.000\n",
              "Model:                            OLS   Adj. R-squared (uncentered):              1.000\n",
              "Method:                 Least Squares   F-statistic:                          7.486e+09\n",
              "Date:                Sun, 05 Dec 2021   Prob (F-statistic):                        0.00\n",
              "Time:                        15:11:12   Log-Likelihood:                          10080.\n",
              "No. Observations:                3678   AIC:                                 -2.014e+04\n",
              "Df Residuals:                    3667   BIC:                                 -2.007e+04\n",
              "Df Model:                          11                                                  \n",
              "Covariance Type:            nonrobust                                                  \n",
              "======================================================================================\n",
              "                         coef    std err          t      P>|t|      [0.025      0.975]\n",
              "--------------------------------------------------------------------------------------\n",
              "pickup_latitude        0.3768      0.013     28.894      0.000       0.351       0.402\n",
              "dropoff_longitude      0.9343      0.006    145.725      0.000       0.922       0.947\n",
              "dropoff_latitude      -0.4522      0.012    -38.857      0.000      -0.475      -0.429\n",
              "passenger_count        0.0001      0.000      0.599      0.549      -0.000       0.001\n",
              "day                -1.647e-05   2.99e-05     -0.551      0.582   -7.51e-05    4.22e-05\n",
              "hour                 7.89e-05   3.98e-05      1.985      0.047    9.53e-07       0.000\n",
              "weekday             -5.67e-05      0.000     -0.439      0.661      -0.000       0.000\n",
              "month                 -0.0002    7.6e-05     -2.741      0.006      -0.000   -5.93e-05\n",
              "year                  -0.0009      0.000     -6.500      0.000      -0.001      -0.001\n",
              "abs_diff_longitude    -0.2551      0.023    -10.940      0.000      -0.301      -0.209\n",
              "abs_diff_latitude      0.0318      0.018      1.721      0.085      -0.004       0.068\n",
              "==============================================================================\n",
              "Omnibus:                      112.037   Durbin-Watson:                   1.945\n",
              "Prob(Omnibus):                  0.000   Jarque-Bera (JB):              229.333\n",
              "Skew:                           0.196   Prob(JB):                     1.59e-50\n",
              "Kurtosis:                       4.159   Cond. No.                     1.98e+05\n",
              "==============================================================================\n",
              "\n",
              "Warnings:\n",
              "[1] Standard Errors assume that the covariance matrix of the errors is correctly specified.\n",
              "[2] The condition number is large, 1.98e+05. This might indicate that there are\n",
              "strong multicollinearity or other numerical problems.\n",
              "\"\"\""
            ]
          },
          "metadata": {},
          "execution_count": 103
        }
      ]
    },
    {
      "cell_type": "code",
      "metadata": {
        "id": "uw_sqExoHEIV"
      },
      "source": [
        "# make the predictions by the model\n",
        "predictions_LR = model.predict(x_test.iloc[:,1:12])"
      ],
      "execution_count": 133,
      "outputs": []
    },
    {
      "cell_type": "code",
      "metadata": {
        "id": "3jmtOUB8HUg-"
      },
      "source": [
        "#Calculate MAPE\n",
        "LR_mape=MAPE(x_test.iloc[:,0], predictions_LR)"
      ],
      "execution_count": 118,
      "outputs": []
    },
    {
      "cell_type": "code",
      "metadata": {
        "colab": {
          "base_uri": "https://localhost:8080/"
        },
        "id": "0LFKKuolQrn6",
        "outputId": "60b319f5-322f-4457-eb9e-faf3776b79b1"
      },
      "source": [
        "LR_mape"
      ],
      "execution_count": 132,
      "outputs": [
        {
          "output_type": "execute_result",
          "data": {
            "text/plain": [
              "0.01505519789060181"
            ]
          },
          "metadata": {},
          "execution_count": 132
        }
      ]
    },
    {
      "cell_type": "markdown",
      "metadata": {
        "id": "rwXZ6OwGCZIG"
      },
      "source": [
        "## ***RANDOM FOREST REGRESSION***"
      ]
    },
    {
      "cell_type": "code",
      "metadata": {
        "id": "Y4XYgIHWcC0m"
      },
      "source": [
        "#Lets see with Random Forest and calculate its rmse\n",
        "from sklearn.ensemble import RandomForestRegressor\n",
        "rfrmodel = RandomForestRegressor(n_estimators=100, random_state=101)"
      ],
      "execution_count": 106,
      "outputs": []
    },
    {
      "cell_type": "code",
      "metadata": {
        "id": "NXMqaGoUcC3e"
      },
      "source": [
        "rfrmodel.fit(x_train,y_train)\n",
        "rfrmodel_pred= rfrmodel.predict(x_test)\n"
      ],
      "execution_count": 107,
      "outputs": []
    },
    {
      "cell_type": "code",
      "metadata": {
        "colab": {
          "base_uri": "https://localhost:8080/"
        },
        "id": "hWJZqu5XcC56",
        "outputId": "3f28a75c-f5f0-44f2-e1ea-007318e6c8df"
      },
      "source": [
        "rfrmodel_rmse=np.sqrt(mean_squared_error(rfrmodel_pred, y_test))\n",
        "print(\"RMSE value for Random forest regression is \",rfrmodel_rmse)\n"
      ],
      "execution_count": 109,
      "outputs": [
        {
          "output_type": "stream",
          "name": "stdout",
          "text": [
            "RMSE value for Random forest regression is  3.3391734170202634\n"
          ]
        }
      ]
    },
    {
      "cell_type": "markdown",
      "metadata": {
        "id": "sNmKUglwNnBy"
      },
      "source": [
        "# **PREDICTION ON ORIGINAL TEST DATA**"
      ]
    },
    {
      "cell_type": "code",
      "metadata": {
        "id": "JBEuqevtIQmU"
      },
      "source": [
        "#haversine function\n",
        "\n",
        "def haversine(lat1, lon1, lat2, lon2, to_radians=True, earth_radius=6371):\n",
        "   \n",
        "    if to_radians:\n",
        "        lat1, lon1, lat2, lon2 = np.radians([lat1, lon1, lat2, lon2])\n",
        "\n",
        "    a = np.sin((lat2-lat1)/2.0)**2 + \\\n",
        "        np.cos(lat1) * np.cos(lat2) * np.sin((lon2-lon1)/2.0)**2\n",
        "\n",
        "    return earth_radius * 2 * np.arcsin(np.sqrt(a))"
      ],
      "execution_count": 110,
      "outputs": []
    },
    {
      "cell_type": "code",
      "metadata": {
        "id": "pwMvClDYLwJC"
      },
      "source": [
        "test_df=pd.read_csv(r\"/content/drive/MyDrive/Internship/test.csv\")"
      ],
      "execution_count": 111,
      "outputs": []
    },
    {
      "cell_type": "code",
      "metadata": {
        "id": "za2PrRAyIQio"
      },
      "source": [
        "#create Dist variable\n",
        "test_df['dist'] = haversine( test_df['pickup_latitude'], test_df['pickup_longitude'],\n",
        "                 test_df['dropoff_latitude'], test_df['dropoff_longitude'])\n",
        "\n",
        "test_df['fare_amount']=0\n",
        "test_df['passenger_count']=test_df['passenger_count'].astype('category')"
      ],
      "execution_count": 114,
      "outputs": []
    },
    {
      "cell_type": "code",
      "metadata": {
        "colab": {
          "base_uri": "https://localhost:8080/"
        },
        "id": "QioclKr8IQgB",
        "outputId": "7b0d46ab-9900-4a0f-e5df-ec327d009806"
      },
      "source": [
        "# Build model on the entire Train data\n",
        "RF_model = RandomForestRegressor(n_estimators = 10).fit(train_df.iloc[:, 1:7], train_df.iloc[:,0])\n",
        "\n",
        "#predict value\n",
        "test_df['fare_amount'] = RF_model.predict(test_df.iloc[:,2:8])"
      ],
      "execution_count": 115,
      "outputs": [
        {
          "output_type": "stream",
          "name": "stderr",
          "text": [
            "/usr/local/lib/python3.7/dist-packages/sklearn/base.py:488: FutureWarning: The feature names should match those that were passed during fit. Starting version 1.2, an error will be raised.\n",
            "Feature names unseen at fit time:\n",
            "- dist\n",
            "Feature names seen at fit time, yet now missing:\n",
            "- day\n",
            "\n",
            "  warnings.warn(message, FutureWarning)\n"
          ]
        }
      ]
    },
    {
      "cell_type": "code",
      "metadata": {
        "colab": {
          "base_uri": "https://localhost:8080/",
          "height": 206
        },
        "id": "2MlMwE_EIQdO",
        "outputId": "875b6454-a3d8-42df-d6e1-736b3c358628"
      },
      "source": [
        "test_df.head()"
      ],
      "execution_count": 116,
      "outputs": [
        {
          "output_type": "execute_result",
          "data": {
            "text/html": [
              "<div>\n",
              "<style scoped>\n",
              "    .dataframe tbody tr th:only-of-type {\n",
              "        vertical-align: middle;\n",
              "    }\n",
              "\n",
              "    .dataframe tbody tr th {\n",
              "        vertical-align: top;\n",
              "    }\n",
              "\n",
              "    .dataframe thead th {\n",
              "        text-align: right;\n",
              "    }\n",
              "</style>\n",
              "<table border=\"1\" class=\"dataframe\">\n",
              "  <thead>\n",
              "    <tr style=\"text-align: right;\">\n",
              "      <th></th>\n",
              "      <th>key</th>\n",
              "      <th>pickup_datetime</th>\n",
              "      <th>pickup_longitude</th>\n",
              "      <th>pickup_latitude</th>\n",
              "      <th>dropoff_longitude</th>\n",
              "      <th>dropoff_latitude</th>\n",
              "      <th>passenger_count</th>\n",
              "      <th>dist</th>\n",
              "      <th>fare_amount</th>\n",
              "    </tr>\n",
              "  </thead>\n",
              "  <tbody>\n",
              "    <tr>\n",
              "      <th>0</th>\n",
              "      <td>2015-01-27 13:08:24.0000002</td>\n",
              "      <td>2015-01-27 13:08:24 UTC</td>\n",
              "      <td>-73.973320</td>\n",
              "      <td>40.763805</td>\n",
              "      <td>-73.981430</td>\n",
              "      <td>40.743835</td>\n",
              "      <td>1</td>\n",
              "      <td>2.323260</td>\n",
              "      <td>7.84</td>\n",
              "    </tr>\n",
              "    <tr>\n",
              "      <th>1</th>\n",
              "      <td>2015-01-27 13:08:24.0000003</td>\n",
              "      <td>2015-01-27 13:08:24 UTC</td>\n",
              "      <td>-73.986862</td>\n",
              "      <td>40.719383</td>\n",
              "      <td>-73.998886</td>\n",
              "      <td>40.739201</td>\n",
              "      <td>1</td>\n",
              "      <td>2.425353</td>\n",
              "      <td>8.44</td>\n",
              "    </tr>\n",
              "    <tr>\n",
              "      <th>2</th>\n",
              "      <td>2011-10-08 11:53:44.0000002</td>\n",
              "      <td>2011-10-08 11:53:44 UTC</td>\n",
              "      <td>-73.982524</td>\n",
              "      <td>40.751260</td>\n",
              "      <td>-73.979654</td>\n",
              "      <td>40.746139</td>\n",
              "      <td>1</td>\n",
              "      <td>0.618628</td>\n",
              "      <td>6.13</td>\n",
              "    </tr>\n",
              "    <tr>\n",
              "      <th>3</th>\n",
              "      <td>2012-12-01 21:12:12.0000002</td>\n",
              "      <td>2012-12-01 21:12:12 UTC</td>\n",
              "      <td>-73.981160</td>\n",
              "      <td>40.767807</td>\n",
              "      <td>-73.990448</td>\n",
              "      <td>40.751635</td>\n",
              "      <td>1</td>\n",
              "      <td>1.961033</td>\n",
              "      <td>7.84</td>\n",
              "    </tr>\n",
              "    <tr>\n",
              "      <th>4</th>\n",
              "      <td>2012-12-01 21:12:12.0000003</td>\n",
              "      <td>2012-12-01 21:12:12 UTC</td>\n",
              "      <td>-73.966046</td>\n",
              "      <td>40.789775</td>\n",
              "      <td>-73.988565</td>\n",
              "      <td>40.744427</td>\n",
              "      <td>1</td>\n",
              "      <td>5.387301</td>\n",
              "      <td>14.01</td>\n",
              "    </tr>\n",
              "  </tbody>\n",
              "</table>\n",
              "</div>"
            ],
            "text/plain": [
              "                           key          pickup_datetime  ...      dist  fare_amount\n",
              "0  2015-01-27 13:08:24.0000002  2015-01-27 13:08:24 UTC  ...  2.323260         7.84\n",
              "1  2015-01-27 13:08:24.0000003  2015-01-27 13:08:24 UTC  ...  2.425353         8.44\n",
              "2  2011-10-08 11:53:44.0000002  2011-10-08 11:53:44 UTC  ...  0.618628         6.13\n",
              "3  2012-12-01 21:12:12.0000002  2012-12-01 21:12:12 UTC  ...  1.961033         7.84\n",
              "4  2012-12-01 21:12:12.0000003  2012-12-01 21:12:12 UTC  ...  5.387301        14.01\n",
              "\n",
              "[5 rows x 9 columns]"
            ]
          },
          "metadata": {},
          "execution_count": 116
        }
      ]
    },
    {
      "cell_type": "code",
      "metadata": {
        "id": "sH2AyG7uIQag"
      },
      "source": [
        "#write output to csv\n",
        "\n",
        "test_df.to_csv(\"Predicted_Values.csv\", index = False)"
      ],
      "execution_count": 117,
      "outputs": []
    }
  ]
}