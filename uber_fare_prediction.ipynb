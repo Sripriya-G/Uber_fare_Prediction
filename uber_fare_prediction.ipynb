{
  "nbformat": 4,
  "nbformat_minor": 0,
  "metadata": {
    "colab": {
      "name": "uber_fare_prediction.ipynb",
      "provenance": [],
      "collapsed_sections": []
    },
    "kernelspec": {
      "name": "python3",
      "display_name": "Python 3"
    },
    "language_info": {
      "name": "python"
    }
  },
  "cells": [
    {
      "cell_type": "markdown",
      "metadata": {
        "id": "_CzYdwWre8B3"
      },
      "source": [
        "train.csv - Input features and target fare_amount values for the training set (about 55M rows).\n",
        "test.csv - Input features for the test set (about 10K rows). Your goal is to predict fare_amount for each row.\n"
      ]
    },
    {
      "cell_type": "code",
      "metadata": {
        "id": "e7d25qRaVZJM"
      },
      "source": [
        "from google.colab import drive"
      ],
      "execution_count": null,
      "outputs": []
    },
    {
      "cell_type": "code",
      "metadata": {
        "id": "hoPldnpKVoYx"
      },
      "source": [
        "drive.mount('\\content\\drive')"
      ],
      "execution_count": null,
      "outputs": []
    },
    {
      "cell_type": "code",
      "metadata": {
        "id": "-p3BT3aWVobm"
      },
      "source": [
        "import numpy as np # linear algebra\n",
        "import pandas as pd # data processing, CSV file I/O (e.g. pd.read_csv)\n"
      ],
      "execution_count": null,
      "outputs": []
    },
    {
      "cell_type": "code",
      "metadata": {
        "colab": {
          "base_uri": "https://localhost:8080/"
        },
        "id": "9_txyLOTVoea",
        "outputId": "f6feb09e-ad84-4792-89df-86278027c5ab"
      },
      "source": [
        "train_df=pd.read_csv(r\"/content/contentdrive/MyDrive/train.csv\",nrows=1000)\n",
        "test_df=pd.read_csv(r\"/content/contentdrive/MyDrive/test.csv\")\n",
        "print (train_df.shape)\n",
        "print (train_df.columns)\n",
        "print (test_df.shape)\n",
        "print (test_df.columns)\n"
      ],
      "execution_count": null,
      "outputs": [
        {
          "output_type": "stream",
          "name": "stdout",
          "text": [
            "(1000, 8)\n",
            "Index(['key', 'fare_amount', 'pickup_datetime', 'pickup_longitude',\n",
            "       'pickup_latitude', 'dropoff_longitude', 'dropoff_latitude',\n",
            "       'passenger_count'],\n",
            "      dtype='object')\n",
            "(9914, 7)\n",
            "Index(['key', 'pickup_datetime', 'pickup_longitude', 'pickup_latitude',\n",
            "       'dropoff_longitude', 'dropoff_latitude', 'passenger_count'],\n",
            "      dtype='object')\n"
          ]
        }
      ]
    },
    {
      "cell_type": "code",
      "metadata": {
        "colab": {
          "base_uri": "https://localhost:8080/"
        },
        "id": "aTqq3BeHVohA",
        "outputId": "31a057ee-8a6b-4b68-e767-90d796394903"
      },
      "source": [
        "train_df.info()"
      ],
      "execution_count": null,
      "outputs": [
        {
          "output_type": "stream",
          "name": "stdout",
          "text": [
            "<class 'pandas.core.frame.DataFrame'>\n",
            "RangeIndex: 1000 entries, 0 to 999\n",
            "Data columns (total 8 columns):\n",
            " #   Column             Non-Null Count  Dtype  \n",
            "---  ------             --------------  -----  \n",
            " 0   key                1000 non-null   object \n",
            " 1   fare_amount        1000 non-null   float64\n",
            " 2   pickup_datetime    1000 non-null   object \n",
            " 3   pickup_longitude   1000 non-null   float64\n",
            " 4   pickup_latitude    1000 non-null   float64\n",
            " 5   dropoff_longitude  1000 non-null   float64\n",
            " 6   dropoff_latitude   1000 non-null   float64\n",
            " 7   passenger_count    1000 non-null   int64  \n",
            "dtypes: float64(5), int64(1), object(2)\n",
            "memory usage: 62.6+ KB\n"
          ]
        }
      ]
    },
    {
      "cell_type": "markdown",
      "metadata": {
        "id": "zyvR0IsyfIFR"
      },
      "source": [
        "#here we can see there are 8columns in which 6 numerics and 2 are object.\n",
        "#Lets change the type of pickup_datetime from object to DateTime\n"
      ]
    },
    {
      "cell_type": "code",
      "metadata": {
        "id": "VhZDWvEDYxOw"
      },
      "source": [
        "train_df[\"pickup_datetime\"]=pd.to_datetime(train_df['pickup_datetime'])"
      ],
      "execution_count": null,
      "outputs": []
    },
    {
      "cell_type": "code",
      "metadata": {
        "colab": {
          "base_uri": "https://localhost:8080/",
          "height": 206
        },
        "id": "XYCK84-GYved",
        "outputId": "f6854f3b-c2d4-46a5-d464-415a3961cad4"
      },
      "source": [
        "train_df.head()"
      ],
      "execution_count": null,
      "outputs": [
        {
          "output_type": "execute_result",
          "data": {
            "text/html": [
              "<div>\n",
              "<style scoped>\n",
              "    .dataframe tbody tr th:only-of-type {\n",
              "        vertical-align: middle;\n",
              "    }\n",
              "\n",
              "    .dataframe tbody tr th {\n",
              "        vertical-align: top;\n",
              "    }\n",
              "\n",
              "    .dataframe thead th {\n",
              "        text-align: right;\n",
              "    }\n",
              "</style>\n",
              "<table border=\"1\" class=\"dataframe\">\n",
              "  <thead>\n",
              "    <tr style=\"text-align: right;\">\n",
              "      <th></th>\n",
              "      <th>key</th>\n",
              "      <th>fare_amount</th>\n",
              "      <th>pickup_datetime</th>\n",
              "      <th>pickup_longitude</th>\n",
              "      <th>pickup_latitude</th>\n",
              "      <th>dropoff_longitude</th>\n",
              "      <th>dropoff_latitude</th>\n",
              "      <th>passenger_count</th>\n",
              "    </tr>\n",
              "  </thead>\n",
              "  <tbody>\n",
              "    <tr>\n",
              "      <th>0</th>\n",
              "      <td>2009-06-15 17:26:21.0000001</td>\n",
              "      <td>4.5</td>\n",
              "      <td>2009-06-15 17:26:21+00:00</td>\n",
              "      <td>-73.844311</td>\n",
              "      <td>40.721319</td>\n",
              "      <td>-73.841610</td>\n",
              "      <td>40.712278</td>\n",
              "      <td>1</td>\n",
              "    </tr>\n",
              "    <tr>\n",
              "      <th>1</th>\n",
              "      <td>2010-01-05 16:52:16.0000002</td>\n",
              "      <td>16.9</td>\n",
              "      <td>2010-01-05 16:52:16+00:00</td>\n",
              "      <td>-74.016048</td>\n",
              "      <td>40.711303</td>\n",
              "      <td>-73.979268</td>\n",
              "      <td>40.782004</td>\n",
              "      <td>1</td>\n",
              "    </tr>\n",
              "    <tr>\n",
              "      <th>2</th>\n",
              "      <td>2011-08-18 00:35:00.00000049</td>\n",
              "      <td>5.7</td>\n",
              "      <td>2011-08-18 00:35:00+00:00</td>\n",
              "      <td>-73.982738</td>\n",
              "      <td>40.761270</td>\n",
              "      <td>-73.991242</td>\n",
              "      <td>40.750562</td>\n",
              "      <td>2</td>\n",
              "    </tr>\n",
              "    <tr>\n",
              "      <th>3</th>\n",
              "      <td>2012-04-21 04:30:42.0000001</td>\n",
              "      <td>7.7</td>\n",
              "      <td>2012-04-21 04:30:42+00:00</td>\n",
              "      <td>-73.987130</td>\n",
              "      <td>40.733143</td>\n",
              "      <td>-73.991567</td>\n",
              "      <td>40.758092</td>\n",
              "      <td>1</td>\n",
              "    </tr>\n",
              "    <tr>\n",
              "      <th>4</th>\n",
              "      <td>2010-03-09 07:51:00.000000135</td>\n",
              "      <td>5.3</td>\n",
              "      <td>2010-03-09 07:51:00+00:00</td>\n",
              "      <td>-73.968095</td>\n",
              "      <td>40.768008</td>\n",
              "      <td>-73.956655</td>\n",
              "      <td>40.783762</td>\n",
              "      <td>1</td>\n",
              "    </tr>\n",
              "  </tbody>\n",
              "</table>\n",
              "</div>"
            ],
            "text/plain": [
              "                             key  ...  passenger_count\n",
              "0    2009-06-15 17:26:21.0000001  ...                1\n",
              "1    2010-01-05 16:52:16.0000002  ...                1\n",
              "2   2011-08-18 00:35:00.00000049  ...                2\n",
              "3    2012-04-21 04:30:42.0000001  ...                1\n",
              "4  2010-03-09 07:51:00.000000135  ...                1\n",
              "\n",
              "[5 rows x 8 columns]"
            ]
          },
          "metadata": {},
          "execution_count": 60
        }
      ]
    },
    {
      "cell_type": "markdown",
      "metadata": {
        "id": "TyOzdR2dfV5f"
      },
      "source": [
        "#As this is Taxi fare data and we know there are many factors which affect the price of taxi like \n",
        "1. Travelled distance\n",
        "2. Time of Travel\n",
        "3. Demand and Availability of Taxi\n",
        "4. Some special places are more costlier like Airport or other places where there might be toll\n"
      ]
    },
    {
      "cell_type": "code",
      "metadata": {
        "colab": {
          "base_uri": "https://localhost:8080/",
          "height": 300
        },
        "id": "bwVZbDkdYvoY",
        "outputId": "ffc2c1d9-cfc8-4f22-e47c-9d3203f4c8cc"
      },
      "source": [
        "train_df.describe()"
      ],
      "execution_count": null,
      "outputs": [
        {
          "output_type": "execute_result",
          "data": {
            "text/html": [
              "<div>\n",
              "<style scoped>\n",
              "    .dataframe tbody tr th:only-of-type {\n",
              "        vertical-align: middle;\n",
              "    }\n",
              "\n",
              "    .dataframe tbody tr th {\n",
              "        vertical-align: top;\n",
              "    }\n",
              "\n",
              "    .dataframe thead th {\n",
              "        text-align: right;\n",
              "    }\n",
              "</style>\n",
              "<table border=\"1\" class=\"dataframe\">\n",
              "  <thead>\n",
              "    <tr style=\"text-align: right;\">\n",
              "      <th></th>\n",
              "      <th>fare_amount</th>\n",
              "      <th>pickup_longitude</th>\n",
              "      <th>pickup_latitude</th>\n",
              "      <th>dropoff_longitude</th>\n",
              "      <th>dropoff_latitude</th>\n",
              "      <th>passenger_count</th>\n",
              "    </tr>\n",
              "  </thead>\n",
              "  <tbody>\n",
              "    <tr>\n",
              "      <th>count</th>\n",
              "      <td>1000.000000</td>\n",
              "      <td>1000.000000</td>\n",
              "      <td>1000.000000</td>\n",
              "      <td>1000.000000</td>\n",
              "      <td>1000.000000</td>\n",
              "      <td>1000.000000</td>\n",
              "    </tr>\n",
              "    <tr>\n",
              "      <th>mean</th>\n",
              "      <td>11.469940</td>\n",
              "      <td>-72.126972</td>\n",
              "      <td>39.732521</td>\n",
              "      <td>-72.198714</td>\n",
              "      <td>39.773237</td>\n",
              "      <td>1.592000</td>\n",
              "    </tr>\n",
              "    <tr>\n",
              "      <th>std</th>\n",
              "      <td>9.499792</td>\n",
              "      <td>11.555398</td>\n",
              "      <td>6.365536</td>\n",
              "      <td>11.327382</td>\n",
              "      <td>6.240137</td>\n",
              "      <td>1.222715</td>\n",
              "    </tr>\n",
              "    <tr>\n",
              "      <th>min</th>\n",
              "      <td>2.500000</td>\n",
              "      <td>-74.438233</td>\n",
              "      <td>0.000000</td>\n",
              "      <td>-74.185996</td>\n",
              "      <td>0.000000</td>\n",
              "      <td>0.000000</td>\n",
              "    </tr>\n",
              "    <tr>\n",
              "      <th>25%</th>\n",
              "      <td>6.000000</td>\n",
              "      <td>-73.993044</td>\n",
              "      <td>40.735310</td>\n",
              "      <td>-73.991830</td>\n",
              "      <td>40.732978</td>\n",
              "      <td>1.000000</td>\n",
              "    </tr>\n",
              "    <tr>\n",
              "      <th>50%</th>\n",
              "      <td>8.500000</td>\n",
              "      <td>-73.982135</td>\n",
              "      <td>40.752876</td>\n",
              "      <td>-73.980246</td>\n",
              "      <td>40.753924</td>\n",
              "      <td>1.000000</td>\n",
              "    </tr>\n",
              "    <tr>\n",
              "      <th>75%</th>\n",
              "      <td>13.000000</td>\n",
              "      <td>-73.966590</td>\n",
              "      <td>40.766689</td>\n",
              "      <td>-73.962534</td>\n",
              "      <td>40.767705</td>\n",
              "      <td>2.000000</td>\n",
              "    </tr>\n",
              "    <tr>\n",
              "      <th>max</th>\n",
              "      <td>66.300000</td>\n",
              "      <td>0.000000</td>\n",
              "      <td>40.993260</td>\n",
              "      <td>0.000000</td>\n",
              "      <td>40.881878</td>\n",
              "      <td>6.000000</td>\n",
              "    </tr>\n",
              "  </tbody>\n",
              "</table>\n",
              "</div>"
            ],
            "text/plain": [
              "       fare_amount  pickup_longitude  ...  dropoff_latitude  passenger_count\n",
              "count  1000.000000       1000.000000  ...       1000.000000      1000.000000\n",
              "mean     11.469940        -72.126972  ...         39.773237         1.592000\n",
              "std       9.499792         11.555398  ...          6.240137         1.222715\n",
              "min       2.500000        -74.438233  ...          0.000000         0.000000\n",
              "25%       6.000000        -73.993044  ...         40.732978         1.000000\n",
              "50%       8.500000        -73.982135  ...         40.753924         1.000000\n",
              "75%      13.000000        -73.966590  ...         40.767705         2.000000\n",
              "max      66.300000          0.000000  ...         40.881878         6.000000\n",
              "\n",
              "[8 rows x 6 columns]"
            ]
          },
          "metadata": {},
          "execution_count": 61
        }
      ]
    },
    {
      "cell_type": "markdown",
      "metadata": {
        "id": "wTy0brrzfe61"
      },
      "source": [
        "#Here first thing which we can see is minimum value of fare is negative which is -62 which is not the valid value, so we need to remove the fare which are negative values.\n",
        "#Secondly, passenger_count minimum value is 0 and maximum value is 208 which impossible, so we need to remove them as well, for safer side we can think that a taxi can have maximum 7 people.\n"
      ]
    },
    {
      "cell_type": "code",
      "metadata": {
        "colab": {
          "base_uri": "https://localhost:8080/"
        },
        "id": "c-Lnk-vrYvq9",
        "outputId": "0fd5c821-3ac0-44ce-8865-20aaf176c2be"
      },
      "source": [
        "#Lets check if there is any null value\n",
        "train_df.isnull().sum()"
      ],
      "execution_count": null,
      "outputs": [
        {
          "output_type": "execute_result",
          "data": {
            "text/plain": [
              "key                  0\n",
              "fare_amount          0\n",
              "pickup_datetime      0\n",
              "pickup_longitude     0\n",
              "pickup_latitude      0\n",
              "dropoff_longitude    0\n",
              "dropoff_latitude     0\n",
              "passenger_count      0\n",
              "dtype: int64"
            ]
          },
          "metadata": {},
          "execution_count": 62
        }
      ]
    },
    {
      "cell_type": "markdown",
      "metadata": {
        "id": "wyRXm-88fveu"
      },
      "source": [
        "#Here we can see there are 14 null values in drop_off latitude and longitude. as removing 14 to 28 rows from our huge dataset will not affect our analysis so, lets remove the rows having null values \n"
      ]
    },
    {
      "cell_type": "code",
      "metadata": {
        "colab": {
          "base_uri": "https://localhost:8080/"
        },
        "id": "9DiOPgFXZzju",
        "outputId": "13dc07e5-7658-40cc-f8c0-d4543bc8e7cb"
      },
      "source": [
        "train_df.dropna(inplace=True)\n",
        "print(train_df.isnull().sum())"
      ],
      "execution_count": null,
      "outputs": [
        {
          "output_type": "stream",
          "name": "stdout",
          "text": [
            "key                  0\n",
            "fare_amount          0\n",
            "pickup_datetime      0\n",
            "pickup_longitude     0\n",
            "pickup_latitude      0\n",
            "dropoff_longitude    0\n",
            "dropoff_latitude     0\n",
            "passenger_count      0\n",
            "dtype: int64\n"
          ]
        }
      ]
    },
    {
      "cell_type": "code",
      "metadata": {
        "id": "ocskB5EEZzmV"
      },
      "source": [
        "import matplotlib.pyplot as plt\n",
        "import seaborn as sns\n",
        "%matplotlib inline"
      ],
      "execution_count": null,
      "outputs": []
    },
    {
      "cell_type": "code",
      "metadata": {
        "colab": {
          "base_uri": "https://localhost:8080/",
          "height": 352
        },
        "id": "TWh3xu4gZzpC",
        "outputId": "eba48690-23c4-46f8-e2b4-f477e0379d0e"
      },
      "source": [
        "sns.distplot(train_df['fare_amount'])"
      ],
      "execution_count": null,
      "outputs": [
        {
          "output_type": "stream",
          "name": "stderr",
          "text": [
            "/usr/local/lib/python3.7/dist-packages/seaborn/distributions.py:2619: FutureWarning: `distplot` is a deprecated function and will be removed in a future version. Please adapt your code to use either `displot` (a figure-level function with similar flexibility) or `histplot` (an axes-level function for histograms).\n",
            "  warnings.warn(msg, FutureWarning)\n"
          ]
        },
        {
          "output_type": "execute_result",
          "data": {
            "text/plain": [
              "<matplotlib.axes._subplots.AxesSubplot at 0x7fbdd7861310>"
            ]
          },
          "metadata": {},
          "execution_count": 65
        },
        {
          "output_type": "display_data",
          "data": {
            "image/png": "[encoded data removed]",
            "text/plain": [
              "<Figure size 432x288 with 1 Axes>"
            ]
          },
          "metadata": {
            "needs_background": "light"
          }
        }
      ]
    },
    {
      "cell_type": "markdown",
      "metadata": {
        "id": "QFGrsZtQf07H"
      },
      "source": [
        "#In distribution plot also it can be seen that there are some values which are negative fare\n"
      ]
    },
    {
      "cell_type": "code",
      "metadata": {
        "colab": {
          "base_uri": "https://localhost:8080/",
          "height": 352
        },
        "id": "FOWnXDEbZzrj",
        "outputId": "530d5798-74b0-4ccf-ce83-59f09f81f9f2"
      },
      "source": [
        "sns.distplot(train_df['pickup_latitude'])"
      ],
      "execution_count": null,
      "outputs": [
        {
          "output_type": "stream",
          "name": "stderr",
          "text": [
            "/usr/local/lib/python3.7/dist-packages/seaborn/distributions.py:2619: FutureWarning: `distplot` is a deprecated function and will be removed in a future version. Please adapt your code to use either `displot` (a figure-level function with similar flexibility) or `histplot` (an axes-level function for histograms).\n",
            "  warnings.warn(msg, FutureWarning)\n"
          ]
        },
        {
          "output_type": "execute_result",
          "data": {
            "text/plain": [
              "<matplotlib.axes._subplots.AxesSubplot at 0x7fbdd7777ed0>"
            ]
          },
          "metadata": {},
          "execution_count": 66
        },
        {
          "output_type": "display_data",
          "data": {
            "image/png": "[encoded data removed]",
            "text/plain": [
              "<Figure size 432x288 with 1 Axes>"
            ]
          },
          "metadata": {
            "needs_background": "light"
          }
        }
      ]
    },
    {
      "cell_type": "markdown",
      "metadata": {
        "id": "Oh4cMpBKf7pL"
      },
      "source": [
        "#Here we can see minimum value is going to be less than even -3000 which is not correct value and also on positive side also going more than 2000\n"
      ]
    },
    {
      "cell_type": "code",
      "metadata": {
        "colab": {
          "base_uri": "https://localhost:8080/",
          "height": 352
        },
        "id": "fgf0ArkJZzvO",
        "outputId": "49e66159-ca67-430c-ad4e-bd83e087e872"
      },
      "source": [
        "sns.distplot(train_df['pickup_longitude'])"
      ],
      "execution_count": null,
      "outputs": [
        {
          "output_type": "stream",
          "name": "stderr",
          "text": [
            "/usr/local/lib/python3.7/dist-packages/seaborn/distributions.py:2619: FutureWarning: `distplot` is a deprecated function and will be removed in a future version. Please adapt your code to use either `displot` (a figure-level function with similar flexibility) or `histplot` (an axes-level function for histograms).\n",
            "  warnings.warn(msg, FutureWarning)\n"
          ]
        },
        {
          "output_type": "execute_result",
          "data": {
            "text/plain": [
              "<matplotlib.axes._subplots.AxesSubplot at 0x7fbdd7657590>"
            ]
          },
          "metadata": {},
          "execution_count": 67
        },
        {
          "output_type": "display_data",
          "data": {
            "image/png": "[encoded data removed]",
            "text/plain": [
              "<Figure size 432x288 with 1 Axes>"
            ]
          },
          "metadata": {
            "needs_background": "light"
          }
        }
      ]
    },
    {
      "cell_type": "markdown",
      "metadata": {
        "id": "14Km9SSKgAv1"
      },
      "source": [
        "#Here also negative and positive values are excedding far behond the real limit.\n"
      ]
    },
    {
      "cell_type": "code",
      "metadata": {
        "colab": {
          "base_uri": "https://localhost:8080/",
          "height": 352
        },
        "id": "4YtbjmukYvtj",
        "outputId": "d47e7d05-c822-4d35-af9f-de77cdeb5132"
      },
      "source": [
        "sns.distplot(train_df['dropoff_longitude'])"
      ],
      "execution_count": null,
      "outputs": [
        {
          "output_type": "stream",
          "name": "stderr",
          "text": [
            "/usr/local/lib/python3.7/dist-packages/seaborn/distributions.py:2619: FutureWarning: `distplot` is a deprecated function and will be removed in a future version. Please adapt your code to use either `displot` (a figure-level function with similar flexibility) or `histplot` (an axes-level function for histograms).\n",
            "  warnings.warn(msg, FutureWarning)\n"
          ]
        },
        {
          "output_type": "execute_result",
          "data": {
            "text/plain": [
              "<matplotlib.axes._subplots.AxesSubplot at 0x7fbdd7619390>"
            ]
          },
          "metadata": {},
          "execution_count": 68
        },
        {
          "output_type": "display_data",
          "data": {
            "image/png": "[encoded data removed]",
            "text/plain": [
              "<Figure size 432x288 with 1 Axes>"
            ]
          },
          "metadata": {
            "needs_background": "light"
          }
        }
      ]
    },
    {
      "cell_type": "code",
      "metadata": {
        "colab": {
          "base_uri": "https://localhost:8080/",
          "height": 352
        },
        "id": "wauAm5m0aaTW",
        "outputId": "9688a073-8f68-4be2-c000-087f44a20562"
      },
      "source": [
        "sns.distplot(train_df['dropoff_latitude'])"
      ],
      "execution_count": null,
      "outputs": [
        {
          "output_type": "stream",
          "name": "stderr",
          "text": [
            "/usr/local/lib/python3.7/dist-packages/seaborn/distributions.py:2619: FutureWarning: `distplot` is a deprecated function and will be removed in a future version. Please adapt your code to use either `displot` (a figure-level function with similar flexibility) or `histplot` (an axes-level function for histograms).\n",
            "  warnings.warn(msg, FutureWarning)\n"
          ]
        },
        {
          "output_type": "execute_result",
          "data": {
            "text/plain": [
              "<matplotlib.axes._subplots.AxesSubplot at 0x7fbdd7489f50>"
            ]
          },
          "metadata": {},
          "execution_count": 69
        },
        {
          "output_type": "display_data",
          "data": {
            "image/png": "[encoded data removed]",
            "text/plain": [
              "<Figure size 432x288 with 1 Axes>"
            ]
          },
          "metadata": {
            "needs_background": "light"
          }
        }
      ]
    },
    {
      "cell_type": "code",
      "metadata": {
        "colab": {
          "base_uri": "https://localhost:8080/"
        },
        "id": "BebIgx9baaWN",
        "outputId": "8cc48fd1-76fd-4a10-ecb1-d7cfa75966e3"
      },
      "source": [
        "print(\"drop_off latitude min value\",test_df[\"dropoff_latitude\"].min())\n",
        "print(\"drop_off latitude max value\",test_df[\"dropoff_latitude\"].max())\n",
        "print(\"drop_off longitude min value\", test_df[\"dropoff_longitude\"].min())\n",
        "print(\"drop_off longitude max value\",test_df[\"dropoff_longitude\"].max())\n",
        "print(\"pickup latitude min value\",test_df[\"pickup_latitude\"].min())\n",
        "print(\"pickup latitude max value\",test_df[\"pickup_latitude\"].max())\n",
        "print(\"pickup longitude min value\",test_df[\"pickup_longitude\"].min())\n",
        "print(\"pickup longitude max value\",test_df[\"pickup_longitude\"].max())"
      ],
      "execution_count": null,
      "outputs": [
        {
          "output_type": "stream",
          "name": "stdout",
          "text": [
            "drop_off latitude min value 40.568973\n",
            "drop_off latitude max value 41.696683\n",
            "drop_off longitude min value -74.263242\n",
            "drop_off longitude max value -72.990963\n",
            "pickup latitude min value 40.573143\n",
            "pickup latitude max value 41.709555\n",
            "pickup longitude min value -74.252193\n",
            "pickup longitude max value -72.986532\n"
          ]
        }
      ]
    },
    {
      "cell_type": "markdown",
      "metadata": {
        "id": "bGoOtKGjgLqT"
      },
      "source": [
        "#we can see what is range of latitude and longitude of our test dataset, lets keep the range same in our train set so that even noisy data is remove and we have only the values which belongs to new york\n"
      ]
    },
    {
      "cell_type": "code",
      "metadata": {
        "id": "Im8rQqmtaaYl"
      },
      "source": [
        "min_longitude=-74.263242,\n",
        "min_latitude=40.573143,\n",
        "max_longitude=-72.986532, \n",
        "max_latitude=41.709555"
      ],
      "execution_count": null,
      "outputs": []
    },
    {
      "cell_type": "code",
      "metadata": {
        "colab": {
          "base_uri": "https://localhost:8080/"
        },
        "id": "-spdMYi-aaau",
        "outputId": "ffe69c4b-d286-4497-da44-e09b655ecbe0"
      },
      "source": [
        "tempdf=train_df[(train_df[\"dropoff_latitude\"]<min_latitude) | (train_df[\"pickup_latitude\"]<min_latitude) | (train_df[\"dropoff_longitude\"]<min_longitude) | (train_df[\"pickup_longitude\"]<min_longitude) | (train_df[\"dropoff_latitude\"]>max_latitude) | (train_df[\"pickup_latitude\"]>max_latitude) | (train_df[\"dropoff_longitude\"]>max_longitude) | (train_df[\"pickup_longitude\"]>max_longitude) ]\n",
        "print(\"before droping\",train_df.shape)\n",
        "train_df.drop(tempdf.index,inplace=True)\n",
        "print(\"after droping\",train_df.shape)"
      ],
      "execution_count": null,
      "outputs": [
        {
          "output_type": "stream",
          "name": "stdout",
          "text": [
            "before droping (1000, 8)\n",
            "after droping (974, 8)\n"
          ]
        }
      ]
    },
    {
      "cell_type": "code",
      "metadata": {
        "colab": {
          "base_uri": "https://localhost:8080/"
        },
        "id": "Ev9KejX9aadS",
        "outputId": "53c94e9d-db61-4b3e-f071-5c4fd0b83de7"
      },
      "source": [
        "tempdf=train_df[(train_df[\"dropoff_latitude\"]<min_latitude) | (train_df[\"pickup_latitude\"]<min_latitude) | (train_df[\"dropoff_longitude\"]<min_longitude) | (train_df[\"pickup_longitude\"]<min_longitude) | (train_df[\"dropoff_latitude\"]>max_latitude) | (train_df[\"pickup_latitude\"]>max_latitude) | (train_df[\"dropoff_longitude\"]>max_longitude) | (train_df[\"pickup_longitude\"]>max_longitude) ]\n",
        "print(\"before droping\",train_df.shape)\n",
        "train_df.drop(tempdf.index,inplace=True)\n",
        "print(\"after droping\",train_df.shape)"
      ],
      "execution_count": null,
      "outputs": [
        {
          "output_type": "stream",
          "name": "stdout",
          "text": [
            "before droping (974, 8)\n",
            "after droping (974, 8)\n"
          ]
        }
      ]
    },
    {
      "cell_type": "markdown",
      "metadata": {
        "id": "oMiNKYWQgSOD"
      },
      "source": [
        "#On different day and time there would be different price like during eveing price would be more compare to afternoon, during christmas price would be different and similarly on weekends price would be different compare to week days. so lets create some extra features which will take care of all these things\n"
      ]
    },
    {
      "cell_type": "code",
      "metadata": {
        "id": "_ct-6Kwnaafz"
      },
      "source": [
        "import calendar\n",
        "train_df['day']=train_df['pickup_datetime'].apply(lambda x:x.day)\n",
        "train_df['hour']=train_df['pickup_datetime'].apply(lambda x:x.hour)\n",
        "train_df['weekday']=train_df['pickup_datetime'].apply(lambda x:calendar.day_name[x.weekday()])\n",
        "train_df['month']=train_df['pickup_datetime'].apply(lambda x:x.month)\n",
        "train_df['year']=train_df['pickup_datetime'].apply(lambda x:x.year)\n"
      ],
      "execution_count": null,
      "outputs": []
    },
    {
      "cell_type": "code",
      "metadata": {
        "colab": {
          "base_uri": "https://localhost:8080/"
        },
        "id": "ExFOKL3ia-ho",
        "outputId": "a0ea849f-729c-483b-9ccf-288b4b5baf1a"
      },
      "source": [
        "train_df.head()"
      ],
      "execution_count": null,
      "outputs": [
        {
          "output_type": "execute_result",
          "data": {
            "text/html": [
              "<div>\n",
              "<style scoped>\n",
              "    .dataframe tbody tr th:only-of-type {\n",
              "        vertical-align: middle;\n",
              "    }\n",
              "\n",
              "    .dataframe tbody tr th {\n",
              "        vertical-align: top;\n",
              "    }\n",
              "\n",
              "    .dataframe thead th {\n",
              "        text-align: right;\n",
              "    }\n",
              "</style>\n",
              "<table border=\"1\" class=\"dataframe\">\n",
              "  <thead>\n",
              "    <tr style=\"text-align: right;\">\n",
              "      <th></th>\n",
              "      <th>key</th>\n",
              "      <th>fare_amount</th>\n",
              "      <th>pickup_datetime</th>\n",
              "      <th>pickup_longitude</th>\n",
              "      <th>pickup_latitude</th>\n",
              "      <th>dropoff_longitude</th>\n",
              "      <th>dropoff_latitude</th>\n",
              "      <th>passenger_count</th>\n",
              "      <th>day</th>\n",
              "      <th>hour</th>\n",
              "      <th>weekday</th>\n",
              "      <th>month</th>\n",
              "      <th>year</th>\n",
              "    </tr>\n",
              "  </thead>\n",
              "  <tbody>\n",
              "    <tr>\n",
              "      <th>0</th>\n",
              "      <td>2009-06-15 17:26:21.0000001</td>\n",
              "      <td>4.5</td>\n",
              "      <td>2009-06-15 17:26:21+00:00</td>\n",
              "      <td>-73.844311</td>\n",
              "      <td>40.721319</td>\n",
              "      <td>-73.841610</td>\n",
              "      <td>40.712278</td>\n",
              "      <td>1</td>\n",
              "      <td>15</td>\n",
              "      <td>17</td>\n",
              "      <td>Monday</td>\n",
              "      <td>6</td>\n",
              "      <td>2009</td>\n",
              "    </tr>\n",
              "    <tr>\n",
              "      <th>1</th>\n",
              "      <td>2010-01-05 16:52:16.0000002</td>\n",
              "      <td>16.9</td>\n",
              "      <td>2010-01-05 16:52:16+00:00</td>\n",
              "      <td>-74.016048</td>\n",
              "      <td>40.711303</td>\n",
              "      <td>-73.979268</td>\n",
              "      <td>40.782004</td>\n",
              "      <td>1</td>\n",
              "      <td>5</td>\n",
              "      <td>16</td>\n",
              "      <td>Tuesday</td>\n",
              "      <td>1</td>\n",
              "      <td>2010</td>\n",
              "    </tr>\n",
              "    <tr>\n",
              "      <th>2</th>\n",
              "      <td>2011-08-18 00:35:00.00000049</td>\n",
              "      <td>5.7</td>\n",
              "      <td>2011-08-18 00:35:00+00:00</td>\n",
              "      <td>-73.982738</td>\n",
              "      <td>40.761270</td>\n",
              "      <td>-73.991242</td>\n",
              "      <td>40.750562</td>\n",
              "      <td>2</td>\n",
              "      <td>18</td>\n",
              "      <td>0</td>\n",
              "      <td>Thursday</td>\n",
              "      <td>8</td>\n",
              "      <td>2011</td>\n",
              "    </tr>\n",
              "    <tr>\n",
              "      <th>3</th>\n",
              "      <td>2012-04-21 04:30:42.0000001</td>\n",
              "      <td>7.7</td>\n",
              "      <td>2012-04-21 04:30:42+00:00</td>\n",
              "      <td>-73.987130</td>\n",
              "      <td>40.733143</td>\n",
              "      <td>-73.991567</td>\n",
              "      <td>40.758092</td>\n",
              "      <td>1</td>\n",
              "      <td>21</td>\n",
              "      <td>4</td>\n",
              "      <td>Saturday</td>\n",
              "      <td>4</td>\n",
              "      <td>2012</td>\n",
              "    </tr>\n",
              "    <tr>\n",
              "      <th>4</th>\n",
              "      <td>2010-03-09 07:51:00.000000135</td>\n",
              "      <td>5.3</td>\n",
              "      <td>2010-03-09 07:51:00+00:00</td>\n",
              "      <td>-73.968095</td>\n",
              "      <td>40.768008</td>\n",
              "      <td>-73.956655</td>\n",
              "      <td>40.783762</td>\n",
              "      <td>1</td>\n",
              "      <td>9</td>\n",
              "      <td>7</td>\n",
              "      <td>Tuesday</td>\n",
              "      <td>3</td>\n",
              "      <td>2010</td>\n",
              "    </tr>\n",
              "  </tbody>\n",
              "</table>\n",
              "</div>"
            ],
            "text/plain": [
              "                             key  fare_amount  ... month  year\n",
              "0    2009-06-15 17:26:21.0000001          4.5  ...     6  2009\n",
              "1    2010-01-05 16:52:16.0000002         16.9  ...     1  2010\n",
              "2   2011-08-18 00:35:00.00000049          5.7  ...     8  2011\n",
              "3    2012-04-21 04:30:42.0000001          7.7  ...     4  2012\n",
              "4  2010-03-09 07:51:00.000000135          5.3  ...     3  2010\n",
              "\n",
              "[5 rows x 13 columns]"
            ]
          },
          "metadata": {},
          "execution_count": 75
        }
      ]
    },
    {
      "cell_type": "code",
      "metadata": {
        "id": "H8pSygl3a-kT"
      },
      "source": [
        "train_df.weekday = train_df.weekday.map({'Sunday':0,'Monday':1,'Tuesday':2,'Wednesday':3,'Thursday':4,'Friday':5,'Saturday':6})\n"
      ],
      "execution_count": null,
      "outputs": []
    },
    {
      "cell_type": "code",
      "metadata": {
        "colab": {
          "base_uri": "https://localhost:8080/"
        },
        "id": "GPxPmsKua-m2",
        "outputId": "94db62dc-722f-4921-f658-0ee6e15ac5c3"
      },
      "source": [
        "train_df.info()"
      ],
      "execution_count": null,
      "outputs": [
        {
          "output_type": "stream",
          "name": "stdout",
          "text": [
            "<class 'pandas.core.frame.DataFrame'>\n",
            "Int64Index: 974 entries, 0 to 999\n",
            "Data columns (total 13 columns):\n",
            " #   Column             Non-Null Count  Dtype              \n",
            "---  ------             --------------  -----              \n",
            " 0   key                974 non-null    object             \n",
            " 1   fare_amount        974 non-null    float64            \n",
            " 2   pickup_datetime    974 non-null    datetime64[ns, UTC]\n",
            " 3   pickup_longitude   974 non-null    float64            \n",
            " 4   pickup_latitude    974 non-null    float64            \n",
            " 5   dropoff_longitude  974 non-null    float64            \n",
            " 6   dropoff_latitude   974 non-null    float64            \n",
            " 7   passenger_count    974 non-null    int64              \n",
            " 8   day                974 non-null    int64              \n",
            " 9   hour               974 non-null    int64              \n",
            " 10  weekday            974 non-null    int64              \n",
            " 11  month              974 non-null    int64              \n",
            " 12  year               974 non-null    int64              \n",
            "dtypes: datetime64[ns, UTC](1), float64(5), int64(6), object(1)\n",
            "memory usage: 146.5+ KB\n"
          ]
        }
      ]
    },
    {
      "cell_type": "code",
      "metadata": {
        "id": "72ZUY0rua-pe"
      },
      "source": [
        "train_df=train_df[train_df['passenger_count']<=8]\n"
      ],
      "execution_count": null,
      "outputs": []
    },
    {
      "cell_type": "code",
      "metadata": {
        "colab": {
          "base_uri": "https://localhost:8080/"
        },
        "id": "p30R7nRda-rt",
        "outputId": "b8bd72b1-87a4-4a93-f4e0-a306c334ddce"
      },
      "source": [
        "train_df.info()"
      ],
      "execution_count": null,
      "outputs": [
        {
          "output_type": "stream",
          "name": "stdout",
          "text": [
            "<class 'pandas.core.frame.DataFrame'>\n",
            "Int64Index: 974 entries, 0 to 999\n",
            "Data columns (total 13 columns):\n",
            " #   Column             Non-Null Count  Dtype              \n",
            "---  ------             --------------  -----              \n",
            " 0   key                974 non-null    object             \n",
            " 1   fare_amount        974 non-null    float64            \n",
            " 2   pickup_datetime    974 non-null    datetime64[ns, UTC]\n",
            " 3   pickup_longitude   974 non-null    float64            \n",
            " 4   pickup_latitude    974 non-null    float64            \n",
            " 5   dropoff_longitude  974 non-null    float64            \n",
            " 6   dropoff_latitude   974 non-null    float64            \n",
            " 7   passenger_count    974 non-null    int64              \n",
            " 8   day                974 non-null    int64              \n",
            " 9   hour               974 non-null    int64              \n",
            " 10  weekday            974 non-null    int64              \n",
            " 11  month              974 non-null    int64              \n",
            " 12  year               974 non-null    int64              \n",
            "dtypes: datetime64[ns, UTC](1), float64(5), int64(6), object(1)\n",
            "memory usage: 106.5+ KB\n"
          ]
        }
      ]
    },
    {
      "cell_type": "code",
      "metadata": {
        "id": "yD-dB7Bla-u0"
      },
      "source": [
        "train_df.drop([\"key\",\"pickup_datetime\"], axis=1, inplace=True)\n"
      ],
      "execution_count": null,
      "outputs": []
    },
    {
      "cell_type": "code",
      "metadata": {
        "colab": {
          "base_uri": "https://localhost:8080/"
        },
        "id": "hne5abn1a-xi",
        "outputId": "c98f738e-01a3-4ba8-de72-f7ae1675d124"
      },
      "source": [
        "train_df.info()"
      ],
      "execution_count": null,
      "outputs": [
        {
          "output_type": "stream",
          "name": "stdout",
          "text": [
            "<class 'pandas.core.frame.DataFrame'>\n",
            "Int64Index: 974 entries, 0 to 999\n",
            "Data columns (total 11 columns):\n",
            " #   Column             Non-Null Count  Dtype  \n",
            "---  ------             --------------  -----  \n",
            " 0   fare_amount        974 non-null    float64\n",
            " 1   pickup_longitude   974 non-null    float64\n",
            " 2   pickup_latitude    974 non-null    float64\n",
            " 3   dropoff_longitude  974 non-null    float64\n",
            " 4   dropoff_latitude   974 non-null    float64\n",
            " 5   passenger_count    974 non-null    int64  \n",
            " 6   day                974 non-null    int64  \n",
            " 7   hour               974 non-null    int64  \n",
            " 8   weekday            974 non-null    int64  \n",
            " 9   month              974 non-null    int64  \n",
            " 10  year               974 non-null    int64  \n",
            "dtypes: float64(5), int64(6)\n",
            "memory usage: 91.3 KB\n"
          ]
        }
      ]
    },
    {
      "cell_type": "markdown",
      "metadata": {
        "id": "7H1R85qwgfPp"
      },
      "source": [
        "#lets divide the data set into train and validation test set\n"
      ]
    },
    {
      "cell_type": "code",
      "metadata": {
        "id": "Qskk6Lb-a-07"
      },
      "source": [
        "from sklearn.model_selection import train_test_split\n"
      ],
      "execution_count": null,
      "outputs": []
    },
    {
      "cell_type": "code",
      "metadata": {
        "id": "_xGIgJkVaajS"
      },
      "source": [
        "x=train_df.drop(\"fare_amount\", axis=1)\n",
        "y=train_df['fare_amount']\n",
        "x_train,x_test,y_train,y_test = train_test_split(x,y,test_size=0.2,random_state=101)\n"
      ],
      "execution_count": null,
      "outputs": []
    },
    {
      "cell_type": "code",
      "metadata": {
        "colab": {
          "base_uri": "https://localhost:8080/",
          "height": 206
        },
        "id": "kx5XvJNfYvw9",
        "outputId": "59cc289d-d95f-4602-b91f-eaf4682c6eaa"
      },
      "source": [
        "x_train.head()"
      ],
      "execution_count": null,
      "outputs": [
        {
          "output_type": "execute_result",
          "data": {
            "text/html": [
              "<div>\n",
              "<style scoped>\n",
              "    .dataframe tbody tr th:only-of-type {\n",
              "        vertical-align: middle;\n",
              "    }\n",
              "\n",
              "    .dataframe tbody tr th {\n",
              "        vertical-align: top;\n",
              "    }\n",
              "\n",
              "    .dataframe thead th {\n",
              "        text-align: right;\n",
              "    }\n",
              "</style>\n",
              "<table border=\"1\" class=\"dataframe\">\n",
              "  <thead>\n",
              "    <tr style=\"text-align: right;\">\n",
              "      <th></th>\n",
              "      <th>pickup_longitude</th>\n",
              "      <th>pickup_latitude</th>\n",
              "      <th>dropoff_longitude</th>\n",
              "      <th>dropoff_latitude</th>\n",
              "      <th>passenger_count</th>\n",
              "      <th>day</th>\n",
              "      <th>hour</th>\n",
              "      <th>weekday</th>\n",
              "      <th>month</th>\n",
              "      <th>year</th>\n",
              "    </tr>\n",
              "  </thead>\n",
              "  <tbody>\n",
              "    <tr>\n",
              "      <th>686</th>\n",
              "      <td>-73.959400</td>\n",
              "      <td>40.770300</td>\n",
              "      <td>-73.966300</td>\n",
              "      <td>40.760600</td>\n",
              "      <td>1</td>\n",
              "      <td>2</td>\n",
              "      <td>19</td>\n",
              "      <td>5</td>\n",
              "      <td>12</td>\n",
              "      <td>2011</td>\n",
              "    </tr>\n",
              "    <tr>\n",
              "      <th>882</th>\n",
              "      <td>-73.998010</td>\n",
              "      <td>40.756080</td>\n",
              "      <td>-73.982730</td>\n",
              "      <td>40.773340</td>\n",
              "      <td>1</td>\n",
              "      <td>22</td>\n",
              "      <td>17</td>\n",
              "      <td>1</td>\n",
              "      <td>9</td>\n",
              "      <td>2014</td>\n",
              "    </tr>\n",
              "    <tr>\n",
              "      <th>805</th>\n",
              "      <td>-73.969813</td>\n",
              "      <td>40.763205</td>\n",
              "      <td>-73.992668</td>\n",
              "      <td>40.721372</td>\n",
              "      <td>2</td>\n",
              "      <td>16</td>\n",
              "      <td>22</td>\n",
              "      <td>3</td>\n",
              "      <td>12</td>\n",
              "      <td>2009</td>\n",
              "    </tr>\n",
              "    <tr>\n",
              "      <th>788</th>\n",
              "      <td>-73.977032</td>\n",
              "      <td>40.750545</td>\n",
              "      <td>-73.990488</td>\n",
              "      <td>40.737205</td>\n",
              "      <td>1</td>\n",
              "      <td>12</td>\n",
              "      <td>13</td>\n",
              "      <td>3</td>\n",
              "      <td>3</td>\n",
              "      <td>2014</td>\n",
              "    </tr>\n",
              "    <tr>\n",
              "      <th>541</th>\n",
              "      <td>-73.979962</td>\n",
              "      <td>40.759952</td>\n",
              "      <td>-73.994670</td>\n",
              "      <td>40.723662</td>\n",
              "      <td>1</td>\n",
              "      <td>7</td>\n",
              "      <td>13</td>\n",
              "      <td>1</td>\n",
              "      <td>7</td>\n",
              "      <td>2014</td>\n",
              "    </tr>\n",
              "  </tbody>\n",
              "</table>\n",
              "</div>"
            ],
            "text/plain": [
              "     pickup_longitude  pickup_latitude  dropoff_longitude  ...  weekday  month  year\n",
              "686        -73.959400        40.770300         -73.966300  ...        5     12  2011\n",
              "882        -73.998010        40.756080         -73.982730  ...        1      9  2014\n",
              "805        -73.969813        40.763205         -73.992668  ...        3     12  2009\n",
              "788        -73.977032        40.750545         -73.990488  ...        3      3  2014\n",
              "541        -73.979962        40.759952         -73.994670  ...        1      7  2014\n",
              "\n",
              "[5 rows x 10 columns]"
            ]
          },
          "metadata": {},
          "execution_count": 84
        }
      ]
    },
    {
      "cell_type": "code",
      "metadata": {
        "colab": {
          "base_uri": "https://localhost:8080/",
          "height": 206
        },
        "id": "J4_ofQCoVonx",
        "outputId": "427a5d84-5a47-4bf4-982e-0c89d43518f2"
      },
      "source": [
        "x_test.head()"
      ],
      "execution_count": null,
      "outputs": [
        {
          "output_type": "execute_result",
          "data": {
            "text/html": [
              "<div>\n",
              "<style scoped>\n",
              "    .dataframe tbody tr th:only-of-type {\n",
              "        vertical-align: middle;\n",
              "    }\n",
              "\n",
              "    .dataframe tbody tr th {\n",
              "        vertical-align: top;\n",
              "    }\n",
              "\n",
              "    .dataframe thead th {\n",
              "        text-align: right;\n",
              "    }\n",
              "</style>\n",
              "<table border=\"1\" class=\"dataframe\">\n",
              "  <thead>\n",
              "    <tr style=\"text-align: right;\">\n",
              "      <th></th>\n",
              "      <th>pickup_longitude</th>\n",
              "      <th>pickup_latitude</th>\n",
              "      <th>dropoff_longitude</th>\n",
              "      <th>dropoff_latitude</th>\n",
              "      <th>passenger_count</th>\n",
              "      <th>day</th>\n",
              "      <th>hour</th>\n",
              "      <th>weekday</th>\n",
              "      <th>month</th>\n",
              "      <th>year</th>\n",
              "    </tr>\n",
              "  </thead>\n",
              "  <tbody>\n",
              "    <tr>\n",
              "      <th>562</th>\n",
              "      <td>-74.016847</td>\n",
              "      <td>40.704765</td>\n",
              "      <td>-73.975607</td>\n",
              "      <td>40.748965</td>\n",
              "      <td>1</td>\n",
              "      <td>1</td>\n",
              "      <td>14</td>\n",
              "      <td>4</td>\n",
              "      <td>5</td>\n",
              "      <td>2014</td>\n",
              "    </tr>\n",
              "    <tr>\n",
              "      <th>139</th>\n",
              "      <td>-73.996986</td>\n",
              "      <td>40.755428</td>\n",
              "      <td>-73.953194</td>\n",
              "      <td>40.802101</td>\n",
              "      <td>3</td>\n",
              "      <td>31</td>\n",
              "      <td>7</td>\n",
              "      <td>0</td>\n",
              "      <td>5</td>\n",
              "      <td>2015</td>\n",
              "    </tr>\n",
              "    <tr>\n",
              "      <th>58</th>\n",
              "      <td>-74.002113</td>\n",
              "      <td>40.739582</td>\n",
              "      <td>-73.971918</td>\n",
              "      <td>40.791899</td>\n",
              "      <td>2</td>\n",
              "      <td>19</td>\n",
              "      <td>23</td>\n",
              "      <td>4</td>\n",
              "      <td>7</td>\n",
              "      <td>2012</td>\n",
              "    </tr>\n",
              "    <tr>\n",
              "      <th>828</th>\n",
              "      <td>-73.974776</td>\n",
              "      <td>40.771861</td>\n",
              "      <td>-73.980998</td>\n",
              "      <td>40.770901</td>\n",
              "      <td>1</td>\n",
              "      <td>12</td>\n",
              "      <td>17</td>\n",
              "      <td>3</td>\n",
              "      <td>6</td>\n",
              "      <td>2013</td>\n",
              "    </tr>\n",
              "    <tr>\n",
              "      <th>77</th>\n",
              "      <td>-74.006662</td>\n",
              "      <td>40.731210</td>\n",
              "      <td>-73.925940</td>\n",
              "      <td>40.825588</td>\n",
              "      <td>1</td>\n",
              "      <td>12</td>\n",
              "      <td>4</td>\n",
              "      <td>5</td>\n",
              "      <td>8</td>\n",
              "      <td>2011</td>\n",
              "    </tr>\n",
              "  </tbody>\n",
              "</table>\n",
              "</div>"
            ],
            "text/plain": [
              "     pickup_longitude  pickup_latitude  dropoff_longitude  ...  weekday  month  year\n",
              "562        -74.016847        40.704765         -73.975607  ...        4      5  2014\n",
              "139        -73.996986        40.755428         -73.953194  ...        0      5  2015\n",
              "58         -74.002113        40.739582         -73.971918  ...        4      7  2012\n",
              "828        -73.974776        40.771861         -73.980998  ...        3      6  2013\n",
              "77         -74.006662        40.731210         -73.925940  ...        5      8  2011\n",
              "\n",
              "[5 rows x 10 columns]"
            ]
          },
          "metadata": {},
          "execution_count": 85
        }
      ]
    },
    {
      "cell_type": "code",
      "metadata": {
        "colab": {
          "base_uri": "https://localhost:8080/"
        },
        "id": "0RUXPEUgbyPv",
        "outputId": "ca32f189-e0f4-4ef5-f5d5-168c5548bdae"
      },
      "source": [
        "x_train.shape"
      ],
      "execution_count": null,
      "outputs": [
        {
          "output_type": "execute_result",
          "data": {
            "text/plain": [
              "(779, 10)"
            ]
          },
          "metadata": {},
          "execution_count": 86
        }
      ]
    },
    {
      "cell_type": "code",
      "metadata": {
        "colab": {
          "base_uri": "https://localhost:8080/"
        },
        "id": "XL9xpD7JbyRt",
        "outputId": "231a447a-9bb1-4737-e239-ab8057e50d33"
      },
      "source": [
        "x_test.shape"
      ],
      "execution_count": null,
      "outputs": [
        {
          "output_type": "execute_result",
          "data": {
            "text/plain": [
              "(195, 10)"
            ]
          },
          "metadata": {},
          "execution_count": 87
        }
      ]
    },
    {
      "cell_type": "code",
      "metadata": {
        "id": "vw2IE7NpbyT9"
      },
      "source": [
        "from sklearn.linear_model import LinearRegression"
      ],
      "execution_count": null,
      "outputs": []
    },
    {
      "cell_type": "code",
      "metadata": {
        "id": "K0TdDtGwbyWu"
      },
      "source": [
        "lrmodel=LinearRegression()\n",
        "lrmodel.fit(x_train, y_train)"
      ],
      "execution_count": null,
      "outputs": []
    },
    {
      "cell_type": "code",
      "metadata": {
        "id": "U6z3CHPlbyZH"
      },
      "source": [
        "predictedvalues = lrmodel.predict(x_test)"
      ],
      "execution_count": null,
      "outputs": []
    },
    {
      "cell_type": "code",
      "metadata": {
        "colab": {
          "base_uri": "https://localhost:8080/"
        },
        "id": "bNjzEH-7cCyX",
        "outputId": "b74f74c2-8b31-498b-8d41-447c52474d6d"
      },
      "source": [
        "#lets calculate rmse for linear Regression model\n",
        "from sklearn.metrics import mean_squared_error\n",
        "lrmodelrmse = np.sqrt(mean_squared_error(predictedvalues, y_test))\n",
        "print(\"RMSE value for Linear regression is\", lrmodelrmse)\n"
      ],
      "execution_count": null,
      "outputs": [
        {
          "output_type": "stream",
          "name": "stdout",
          "text": [
            "RMSE value for Linear regression is 7.863363430362371\n"
          ]
        }
      ]
    },
    {
      "cell_type": "code",
      "metadata": {
        "id": "Y4XYgIHWcC0m"
      },
      "source": [
        "#Lets see with Random Forest and calculate its rmse\n",
        "from sklearn.ensemble import RandomForestRegressor\n",
        "rfrmodel = RandomForestRegressor(n_estimators=100, random_state=101)\n"
      ],
      "execution_count": null,
      "outputs": []
    },
    {
      "cell_type": "code",
      "metadata": {
        "id": "NXMqaGoUcC3e"
      },
      "source": [
        "rfrmodel.fit(x_train,y_train)\n",
        "rfrmodel_pred= rfrmodel.predict(x_test)\n"
      ],
      "execution_count": null,
      "outputs": []
    },
    {
      "cell_type": "code",
      "metadata": {
        "colab": {
          "base_uri": "https://localhost:8080/"
        },
        "id": "hWJZqu5XcC56",
        "outputId": "9d38416c-14ec-4202-8728-0d55fb17f0b6"
      },
      "source": [
        "rfrmodel_rmse=np.sqrt(mean_squared_error(rfrmodel_pred, y_test))\n",
        "print(\"RMSE value for Random forest regression is \",rfrmodel_rmse)\n"
      ],
      "execution_count": null,
      "outputs": [
        {
          "output_type": "stream",
          "name": "stdout",
          "text": [
            "RMSE value for Random forest regression is  5.564918766642809\n"
          ]
        }
      ]
    },
    {
      "cell_type": "code",
      "metadata": {
        "id": "SLaFkkZmcC8j"
      },
      "source": [
        "#RandomForest Regressor is giving good value, so we can use it as final model"
      ],
      "execution_count": null,
      "outputs": []
    }
  ]
}